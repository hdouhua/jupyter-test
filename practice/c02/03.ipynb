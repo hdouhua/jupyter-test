{
 "metadata": {
  "language_info": {
   "codemirror_mode": {
    "name": "ipython",
    "version": 3
   },
   "file_extension": ".py",
   "mimetype": "text/x-python",
   "name": "python",
   "nbconvert_exporter": "python",
   "pygments_lexer": "ipython3",
   "version": "3.7.7-final"
  },
  "orig_nbformat": 2,
  "kernelspec": {
   "name": "python3",
   "display_name": "Python 3"
  }
 },
 "nbformat": 4,
 "nbformat_minor": 2,
 "cells": [
  {
   "source": [
    "# 装饰器\n",
    "\n",
    "## 函数 -> 装饰器\n",
    "\n",
    "- 把函数 func 赋予了变量"
   ],
   "cell_type": "markdown",
   "metadata": {}
  },
  {
   "cell_type": "code",
   "execution_count": 1,
   "metadata": {},
   "outputs": [
    {
     "output_type": "stream",
     "name": "stdout",
     "text": [
      "Got a message: hello world\n"
     ]
    }
   ],
   "source": [
    "def func(message):\n",
    "    print('Got a message: {}'.format(message))\n",
    "    \n",
    "send_message = func\n",
    "send_message('hello world')\n"
   ]
  },
  {
   "source": [
    "- 把函数当作参数，传入另一个函数中"
   ],
   "cell_type": "markdown",
   "metadata": {}
  },
  {
   "cell_type": "code",
   "execution_count": 2,
   "metadata": {},
   "outputs": [
    {
     "output_type": "stream",
     "name": "stdout",
     "text": [
      "Got a message: hello world\n"
     ]
    }
   ],
   "source": [
    "def get_message(message):\n",
    "    return 'Got a message: ' + message\n",
    "\n",
    "def root_call(func, message):\n",
    "    print(func(message))\n",
    "\n",
    "root_call(get_message, 'hello world')"
   ]
  },
  {
   "source": [
    "- 在函数里定义函数，也就是函数的嵌套"
   ],
   "cell_type": "markdown",
   "metadata": {}
  },
  {
   "cell_type": "code",
   "execution_count": 3,
   "metadata": {},
   "outputs": [
    {
     "output_type": "stream",
     "name": "stdout",
     "text": [
      "Got a message: hello world\n"
     ]
    }
   ],
   "source": [
    "def func(message):\n",
    "    def get_message(message):\n",
    "        print('Got a message: {}'.format(message))\n",
    "\n",
    "    return get_message(message)\n",
    "\n",
    "func('hello world')"
   ]
  },
  {
   "source": [
    "- 函数的返回值也可以是函数对象（闭包）"
   ],
   "cell_type": "markdown",
   "metadata": {}
  },
  {
   "cell_type": "code",
   "execution_count": 4,
   "metadata": {},
   "outputs": [
    {
     "output_type": "stream",
     "name": "stdout",
     "text": [
      "Got a message: hello world\n"
     ]
    }
   ],
   "source": [
    "def func_closure():\n",
    "    def get_message(message):\n",
    "        print('Got a message: {}'.format(message))\n",
    "\n",
    "    return get_message\n",
    "\n",
    "send_message = func_closure()\n",
    "send_message('hello world')"
   ]
  },
  {
   "source": [
    "## 函数装饰器\n",
    "### 简单的装饰器"
   ],
   "cell_type": "markdown",
   "metadata": {}
  },
  {
   "source": [
    "def my_decorator(func):\n",
    "    def wrapper():\n",
    "        print('wrapper of decorator')\n",
    "        func()\n",
    "\n",
    "    return wrapper\n",
    "\n",
    "def greet():\n",
    "    print('hello world')\n",
    "\n",
    "greeting = my_decorator(greet)\n",
    "greeting()\n"
   ],
   "cell_type": "code",
   "metadata": {},
   "execution_count": 5,
   "outputs": [
    {
     "output_type": "stream",
     "name": "stdout",
     "text": [
      "wrapper of decorator\nhello world\n"
     ]
    }
   ]
  },
  {
   "source": [
    "这段代码变量 greeting 指向了内部函数 wrapper()，而内部函数 wrapper() 中又会调用传入的函数 greet()。\n",
    "\n",
    "这里的函数 my_decorator() 就是一个装饰器，它把真正需要执行的函数 greet() 包裹在其中，并且改变了它的行为，，但是原函数 greet() 不变。\n",
    "\n",
    "上述代码在 Python 中有如下更简单、更优雅的表示，使用`@decorator`语法糖"
   ],
   "cell_type": "markdown",
   "metadata": {}
  },
  {
   "cell_type": "code",
   "execution_count": 6,
   "metadata": {},
   "outputs": [
    {
     "output_type": "stream",
     "name": "stdout",
     "text": [
      "wrapper of decorator\nhello world\n"
     ]
    }
   ],
   "source": [
    "def my_decorator(func):\n",
    "    def wrapper():\n",
    "        print('wrapper of decorator')\n",
    "        func()\n",
    "\n",
    "    return wrapper\n",
    "\n",
    "@my_decorator\n",
    "def greet():\n",
    "    print('hello world')\n",
    "\n",
    "greet()"
   ]
  },
  {
   "source": [
    "### 带有参数的装饰器\n",
    "\n",
    "有参数需要传递给装饰器怎么办？\n",
    "\n",
    "一个简单的办法，是可以在对应的装饰器函数 wrapper() 上，加上相应的参数，如下："
   ],
   "cell_type": "markdown",
   "metadata": {}
  },
  {
   "cell_type": "code",
   "execution_count": 7,
   "metadata": {},
   "outputs": [
    {
     "output_type": "stream",
     "name": "stdout",
     "text": [
      "wrapper of decorator\nhello world\n"
     ]
    }
   ],
   "source": [
    "def my_decorator(func):\n",
    "    def wrapper(message):\n",
    "        print('wrapper of decorator')\n",
    "        func(message)\n",
    "\n",
    "    return wrapper\n",
    "\n",
    "@my_decorator\n",
    "def greet(message):\n",
    "    print(message)\n",
    "\n",
    "greet('hello world')\n"
   ]
  },
  {
   "source": [
    "新的问题，如果我另外还有一个函数，也需要使用 my_decorator() 装饰器，但是这个新的函数有两个参数，又该怎么办呢？\n",
    "\n",
    "通常情况下，我们会把 `*args` 和 `**kwargs`，作为装饰器内部函数 wrapper() 的参数。`*args` 和 `**kwargs`，表示接受任意数量和类型的参数，因此装饰器就可以写成下面的形式：\n"
   ],
   "cell_type": "markdown",
   "metadata": {}
  },
  {
   "cell_type": "code",
   "execution_count": 8,
   "metadata": {},
   "outputs": [
    {
     "output_type": "stream",
     "name": "stdout",
     "text": [
      "wrapper of decorator\ndao, welcome\nwrapper of decorator\nhello world!\n"
     ]
    }
   ],
   "source": [
    "def my_decorator(func):\n",
    "    def wrapper(*args, **kwargs):\n",
    "        print('wrapper of decorator')\n",
    "        func(*args, **kwargs)\n",
    "\n",
    "    return wrapper\n",
    "\n",
    "@my_decorator\n",
    "def greet(name, message):\n",
    "    print(f'{name}, {message}')\n",
    "\n",
    "@my_decorator\n",
    "def greet2(message):\n",
    "    print(message)\n",
    "\n",
    "greet('dao', 'welcome')\n",
    "greet2('hello world!')"
   ]
  },
  {
   "source": [
    "### 带有自定义参数的装饰器"
   ],
   "cell_type": "markdown",
   "metadata": {}
  },
  {
   "cell_type": "code",
   "execution_count": 9,
   "metadata": {},
   "outputs": [
    {
     "output_type": "stream",
     "name": "stdout",
     "text": [
      "wrapper of decorator\nhello world\nwrapper of decorator\nhello world\nwrapper of decorator\nhello world\n"
     ]
    }
   ],
   "source": [
    "def repeat(num):\n",
    "    def my_decorator(func):\n",
    "        def wrapper(*args, **kwargs):\n",
    "            for i in range(num):\n",
    "                print('wrapper of decorator')\n",
    "                func(*args, **kwargs)\n",
    "        return wrapper\n",
    "    return my_decorator\n",
    "\n",
    "\n",
    "@repeat(3)\n",
    "def greet(message):\n",
    "    print(message)\n",
    "\n",
    "greet('hello world')\n"
   ]
  },
  {
   "source": [
    "### 思考\n",
    "\n",
    "上面的代码，我们定义了一个参数 num，来表示装饰器内部函数被执行的次数。\n",
    "\n",
    "经历了各种变种之后，我们不禁要问：原函数还是原函数吗？"
   ],
   "cell_type": "markdown",
   "metadata": {}
  },
  {
   "cell_type": "code",
   "execution_count": 10,
   "metadata": {},
   "outputs": [
    {
     "output_type": "execute_result",
     "data": {
      "text/plain": [
       "'wrapper'"
      ]
     },
     "metadata": {},
     "execution_count": 10
    }
   ],
   "source": [
    "greet.__name__"
   ]
  },
  {
   "cell_type": "code",
   "execution_count": 11,
   "metadata": {},
   "outputs": [
    {
     "output_type": "stream",
     "name": "stdout",
     "text": [
      "Help on function wrapper in module __main__:\n\nwrapper(*args, **kwargs)\n\n"
     ]
    }
   ],
   "source": [
    "help(greet)"
   ]
  },
  {
   "source": [
    "greet() 函数被装饰以后，它的元信息变了。元信息告诉我们“它不再是以前的那个 greet() 函数，而是被 wrapper() 函数取代了”。\n",
    "\n",
    "为了解决这个问题，我们通常使用内置的装饰器`@functools.wrap`，它会帮助保留原函数的元信息（也就是将原函数的元信息，拷贝到对应的装饰器函数里）。"
   ],
   "cell_type": "markdown",
   "metadata": {}
  },
  {
   "cell_type": "code",
   "execution_count": 12,
   "metadata": {},
   "outputs": [],
   "source": [
    "import functools\n",
    "\n",
    "def my_decorator(func):\n",
    "    @functools.wraps(func)\n",
    "    def wrapper(*args, **kwargs):\n",
    "        print('wrapper of decorator')\n",
    "        func(*args, **kwargs)\n",
    "    return wrapper\n",
    "    \n",
    "@my_decorator\n",
    "def greet(message):\n",
    "    print(message)"
   ]
  },
  {
   "cell_type": "code",
   "execution_count": 13,
   "metadata": {},
   "outputs": [
    {
     "output_type": "execute_result",
     "data": {
      "text/plain": [
       "'greet'"
      ]
     },
     "metadata": {},
     "execution_count": 13
    }
   ],
   "source": [
    "greet.__name__"
   ]
  },
  {
   "cell_type": "code",
   "execution_count": 14,
   "metadata": {},
   "outputs": [
    {
     "output_type": "stream",
     "name": "stdout",
     "text": [
      "Help on function greet in module __main__:\n\ngreet(message)\n\n"
     ]
    }
   ],
   "source": [
    "help(greet)"
   ]
  },
  {
   "source": [
    "## 类装饰器\n",
    "\n",
    "除了函数作为装饰器的用法，实际上，类也可以作为装饰器。类装饰器主要依赖于函数 `__call__()`，每当你调用一个类的实例时，函数 `__call__()` 就会被执行一次。\n"
   ],
   "cell_type": "markdown",
   "metadata": {}
  },
  {
   "cell_type": "code",
   "execution_count": 15,
   "metadata": {},
   "outputs": [
    {
     "output_type": "stream",
     "name": "stdout",
     "text": [
      "num of calls is: 1\nhello world\n--------\nnum of calls is: 2\nhello world\n"
     ]
    }
   ],
   "source": [
    "class Count:\n",
    "    def __init__(self, func):\n",
    "        self.func = func\n",
    "        self.num_calls = 0\n",
    "\n",
    "    def __call__(self, *args, **kwargs):\n",
    "        self.num_calls += 1\n",
    "        print('num of calls is: {}'.format(self.num_calls))\n",
    "        return self.func(*args, **kwargs)\n",
    "\n",
    "@Count\n",
    "def example():\n",
    "    print(\"hello world\")\n",
    "\n",
    "example()\n",
    "print('--------')\n",
    "example()"
   ]
  },
  {
   "source": [
    "## 装饰器的嵌套\n",
    "\n",
    "```python\n",
    "@decorator1\n",
    "@decorator2\n",
    "@decorator3\n",
    "def func():\n",
    "    pass\n",
    "```\n",
    "\n",
    "它的执行顺序从里到外，所以上面的语句也等效于下面这行代码：\n",
    "\n",
    "`decorator1(decorator2(decorator3(func)))`"
   ],
   "cell_type": "markdown",
   "metadata": {}
  },
  {
   "cell_type": "code",
   "execution_count": 16,
   "metadata": {},
   "outputs": [
    {
     "output_type": "stream",
     "name": "stdout",
     "text": [
      "execute decorator1\nexecute decorator2\nhello world\n"
     ]
    }
   ],
   "source": [
    "import functools\n",
    "\n",
    "def my_decorator1(func):\n",
    "    #@functools.wraps(func)\n",
    "    def wrapper(*args, **kwargs):\n",
    "        print('execute decorator1')\n",
    "        func(*args, **kwargs)\n",
    "    return wrapper\n",
    "\n",
    "\n",
    "def my_decorator2(func):\n",
    "    @functools.wraps(func)\n",
    "    def wrapper2(*args, **kwargs):\n",
    "        print('execute decorator2')\n",
    "        func(*args, **kwargs)\n",
    "    return wrapper2\n",
    "\n",
    "\n",
    "@my_decorator1\n",
    "@my_decorator2\n",
    "def greet(message):\n",
    "    print(message)\n",
    "\n",
    "greet('hello world')"
   ]
  },
  {
   "source": [
    "# 此处测试注释某个 `@functools.wraps(func)` 的情况\n",
    "help(greet)"
   ],
   "cell_type": "code",
   "metadata": {},
   "execution_count": 17,
   "outputs": [
    {
     "output_type": "stream",
     "name": "stdout",
     "text": [
      "Help on function wrapper in module __main__:\n\nwrapper(*args, **kwargs)\n    #@functools.wraps(func)\n\n"
     ]
    }
   ]
  },
  {
   "source": [
    "## 装饰器用法实例\n",
    "\n",
    "### 身份认证"
   ],
   "cell_type": "markdown",
   "metadata": {}
  },
  {
   "cell_type": "code",
   "execution_count": 18,
   "metadata": {},
   "outputs": [
    {
     "output_type": "stream",
     "name": "stdout",
     "text": [
      "check user: {user} - passed\ncomment: done by test!\ncheck user: {user} - falied\nplease login first\n"
     ]
    }
   ],
   "source": [
    "import functools\n",
    "\n",
    "def check_user_logged_in(user):\n",
    "    if user == 'test':\n",
    "        print('check user: {user} - passed')\n",
    "        return True\n",
    "    print('check user: {user} - falied')\n",
    "    return False\n",
    "\n",
    "def authenticate(func):\n",
    "    @functools.wraps(func)\n",
    "    def wrapper(*args, **kwargs):\n",
    "        request = args[0]\n",
    "        if check_user_logged_in(request): # 如果用户处于登录状态\n",
    "            return func(*args, **kwargs) # 执行函数post_comment() \n",
    "        else:\n",
    "            raise Exception('Authentication failed')\n",
    "\n",
    "    return wrapper\n",
    "    \n",
    "@authenticate\n",
    "def post_comment(user):\n",
    "    print(f'comment: done by {user}!')\n",
    "\n",
    "try:\n",
    "    post_comment('test')\n",
    "except:\n",
    "    print('please login first')\n",
    "\n",
    "try:\n",
    "    post_comment('xyz')\n",
    "except:\n",
    "    print('please login first')\n"
   ]
  },
  {
   "source": [
    "### 日志记录"
   ],
   "cell_type": "markdown",
   "metadata": {}
  },
  {
   "source": [
    "import time\n",
    "import functools\n",
    "\n",
    "def log_execution_time(func):\n",
    "    @functools.wraps(func)\n",
    "    def wrapper(*args, **kwargs):\n",
    "        start = time.perf_counter()\n",
    "        res = func(*args, **kwargs)\n",
    "        end = time.perf_counter()\n",
    "        print('{} took {} ms'.format(func.__name__, (end - start) * 1000))\n",
    "        return res\n",
    "\n",
    "    return wrapper\n",
    "    \n",
    "@log_execution_time\n",
    "def calculate_similarity():\n",
    "    for i in range(100000):\n",
    "        pass\n",
    "    print('do something')\n",
    "    return 'this is result'\n",
    "\n",
    "calculate_similarity()\n"
   ],
   "cell_type": "code",
   "metadata": {},
   "execution_count": 19,
   "outputs": [
    {
     "output_type": "stream",
     "name": "stdout",
     "text": [
      "do something\ncalculate_similarity took 3.3488709999573985 ms\n"
     ]
    },
    {
     "output_type": "execute_result",
     "data": {
      "text/plain": [
       "'this is result'"
      ]
     },
     "metadata": {},
     "execution_count": 19
    }
   ]
  },
  {
   "source": [
    "### 输入合理性检查\n"
   ],
   "cell_type": "markdown",
   "metadata": {}
  },
  {
   "cell_type": "code",
   "execution_count": 22,
   "metadata": {},
   "outputs": [],
   "source": [
    "import functools\n",
    "\n",
    "def validation_check(input):\n",
    "    @functools.wraps(func)\n",
    "    def wrapper(*args, **kwargs): \n",
    "        # 检查输入是否合法\n",
    "        pass\n",
    "\n",
    "@validation_check\n",
    "def neural_network_training(param1, param2):\n",
    "    #...\n",
    "    pass"
   ]
  },
  {
   "source": [
    "### 缓存\n",
    "\n",
    "以 Python 内置的 LRU cache 为例来说明。\n",
    "\n",
    "LRU cache，在 Python 中的表示形式是 `@lru_cache`。`@lru_cache` 会缓存进程中的函数参数和结果，当缓存满了以后，会删除 **least recenly used** 的数据。\n",
    "\n",
    "正确使用缓存装饰器，往往能极大地提高程序运行效率。\n",
    "\n",
    "大型公司服务器端的代码中往往存在很多关于设备的检查，比如你使用的设备是安卓还是 iPhone，版本号是多少。这其中的一个原因，就是一些新的 feature，往往只在某些特定的手机系统或版本上才有（比如 Android v200+）。这样一来，我们通常使用缓存装饰器，来包裹这些检查函数，避免其被反复调用，进而提高程序运行效率，比如写成下面这样：\n",
    "\n",
    "```python\n",
    "@lru_cache\n",
    "def check(param1, param2, ...) # 检查用户设备类型，版本号等等\n",
    "    #...\n",
    "```\n"
   ],
   "cell_type": "markdown",
   "metadata": {}
  },
  {
   "source": [
    "## 总结\n",
    "\n",
    "所谓的装饰器，其实就是通过装饰器函数，来修改原函数的一些功能，使得原函数不需要修改。\n",
    "\n",
    ">Decorators is to modify the behavior of the function through a wrapper so we don’t have to actually modify the function."
   ],
   "cell_type": "markdown",
   "metadata": {}
  }
 ]
}