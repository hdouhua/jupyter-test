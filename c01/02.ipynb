{
 "metadata": {
  "language_info": {
   "codemirror_mode": {
    "name": "ipython",
    "version": 3
   },
   "file_extension": ".py",
   "mimetype": "text/x-python",
   "name": "python",
   "nbconvert_exporter": "python",
   "pygments_lexer": "ipython3",
   "version": "3.7.7-final"
  },
  "orig_nbformat": 2,
  "kernelspec": {
   "name": "python3",
   "display_name": "Python 3"
  }
 },
 "nbformat": 4,
 "nbformat_minor": 2,
 "cells": [
  {
   "source": [
    "## dictionary & set"
   ],
   "cell_type": "markdown",
   "metadata": {}
  },
  {
   "source": [
    "- 字典的创建\n",
    "\n",
    "   Python 中字典和集合，无论是键还是值，都可以是混合类型。"
   ],
   "cell_type": "markdown",
   "metadata": {}
  },
  {
   "cell_type": "code",
   "execution_count": 2,
   "metadata": {},
   "outputs": [],
   "source": [
    "d1 = {'name': 'jason', 'age': 20, 'gender': 'male'}\n",
    "d2 = dict({'name': 'jason', 'age': 20, 'gender': 'male'})\n",
    "d3 = dict([('name', 'jason'), ('age', 20), ('gender', 'male')])\n",
    "d4 = dict(name='jason', age=20, gender='male') "
   ]
  },
  {
   "source": [
    "- 字典的访问\n",
    "  \n",
    "  可以直接索引键，如果不存在，就会抛出异常，或者使用 get(key, default) 函数来进行索引，间不存在返回默认值"
   ],
   "cell_type": "markdown",
   "metadata": {}
  },
  {
   "cell_type": "code",
   "execution_count": 5,
   "metadata": {},
   "outputs": [
    {
     "output_type": "stream",
     "name": "stdout",
     "text": [
      "jason\nnull\n"
     ]
    }
   ],
   "source": [
    "d = {'name': 'jason', 'age': 20}\n",
    "print(d.get('name'))\n",
    "print(d.get('location', 'null'))"
   ]
  },
  {
   "source": [
    "- 集合并不支持索引操作，因为集合本质上是一个哈希表，和列表不一样。"
   ],
   "cell_type": "markdown",
   "metadata": {}
  },
  {
   "cell_type": "code",
   "execution_count": 6,
   "metadata": {},
   "outputs": [
    {
     "output_type": "error",
     "ename": "TypeError",
     "evalue": "'set' object is not subscriptable",
     "traceback": [
      "\u001b[0;31m---------------------------------------------------------------------------\u001b[0m",
      "\u001b[0;31mTypeError\u001b[0m                                 Traceback (most recent call last)",
      "\u001b[0;32m<ipython-input-6-5cdbfc2bec29>\u001b[0m in \u001b[0;36m<module>\u001b[0;34m\u001b[0m\n\u001b[1;32m      1\u001b[0m \u001b[0ms\u001b[0m \u001b[0;34m=\u001b[0m \u001b[0;34m{\u001b[0m\u001b[0;36m1\u001b[0m\u001b[0;34m,\u001b[0m \u001b[0;36m2\u001b[0m\u001b[0;34m,\u001b[0m \u001b[0;36m3\u001b[0m\u001b[0;34m}\u001b[0m\u001b[0;34m\u001b[0m\u001b[0;34m\u001b[0m\u001b[0m\n\u001b[0;32m----> 2\u001b[0;31m \u001b[0ms\u001b[0m\u001b[0;34m[\u001b[0m\u001b[0;36m0\u001b[0m\u001b[0;34m]\u001b[0m\u001b[0;34m\u001b[0m\u001b[0;34m\u001b[0m\u001b[0m\n\u001b[0m",
      "\u001b[0;31mTypeError\u001b[0m: 'set' object is not subscriptable"
     ]
    }
   ],
   "source": [
    "s = {1, 2, 3}\n",
    "s[0]"
   ]
  },
  {
   "source": [
    "- 想要判断一个元素在不在字典或集合内，我们可以用 value in dict/set 来判断。"
   ],
   "cell_type": "markdown",
   "metadata": {}
  },
  {
   "cell_type": "code",
   "execution_count": 8,
   "metadata": {},
   "outputs": [
    {
     "output_type": "stream",
     "name": "stdout",
     "text": [
      "True\nFalse\nTrue\nFalse\n"
     ]
    }
   ],
   "source": [
    "s = {1, 2, 3}\n",
    "print(1 in s)\n",
    "print(10 in s)\n",
    "\n",
    "d = {'name': 'jason', 'age': 20}\n",
    "print('name' in d)\n",
    "print('location' in d)"
   ]
  },
  {
   "source": [
    "- 字典和集合也同样支持增加、删除、更新等操作"
   ],
   "cell_type": "markdown",
   "metadata": {}
  },
  {
   "cell_type": "code",
   "execution_count": 9,
   "metadata": {},
   "outputs": [
    {
     "output_type": "stream",
     "name": "stdout",
     "text": [
      "{'name': 'jason', 'age': 20, 'gender': 'male', 'dob': '1999-02-01'}\n{'name': 'jason', 'age': 20, 'gender': 'male'}\n{1, 2, 3, 4}\n{1, 2, 3}\n"
     ]
    }
   ],
   "source": [
    "d = {'name': 'jason', 'age': 20}\n",
    "d['gender'] = 'male' # 增加元素对'gender': 'male'\n",
    "d['dob'] = '1999-02-01' # 增加元素对'dob': '1999-02-01'\n",
    "print(d)\n",
    "\n",
    "d['dob'] = '1998-01-01' # 更新键'dob'对应的值 \n",
    "d.pop('dob') # 删除键为'dob'的元素对\n",
    "print(d)\n",
    "\n",
    "s = {1, 2, 3}\n",
    "s.add(4) # 增加元素4到集合\n",
    "print(s)\n",
    "\n",
    "s.remove(4) # 从集合中删除元素4\n",
    "print(s)\n"
   ]
  },
  {
   "source": [
    ">注意，集合的 pop() 操作是删除集合中最后一个元素，可是集合本身是无序的，你无法知道会删除哪个元素，谨慎使用。"
   ],
   "cell_type": "markdown",
   "metadata": {}
  },
  {
   "source": [
    "- 对于字典,升序或降序排序"
   ],
   "cell_type": "markdown",
   "metadata": {}
  },
  {
   "cell_type": "code",
   "execution_count": 10,
   "metadata": {},
   "outputs": [
    {
     "output_type": "stream",
     "name": "stdout",
     "text": [
      "[('a', 2), ('b', 1), ('c', 10)]\n[('b', 1), ('a', 2), ('c', 10)]\n"
     ]
    }
   ],
   "source": [
    "d = {'b': 1, 'a': 2, 'c': 10}\n",
    "d_sorted_by_key = sorted(d.items(), key=lambda x: x[0]) # 根据字典键的升序排序\n",
    "d_sorted_by_value = sorted(d.items(), key=lambda x: x[1]) # 根据字典值的升序排序\n",
    "print(d_sorted_by_key)\n",
    "print(d_sorted_by_value)"
   ]
  },
  {
   "source": [
    "- 对于集合，其排序和前面讲过的列表、元组很类似，直接调用 sorted(set) 即可"
   ],
   "cell_type": "markdown",
   "metadata": {}
  },
  {
   "cell_type": "code",
   "execution_count": 13,
   "metadata": {},
   "outputs": [
    {
     "output_type": "stream",
     "name": "stdout",
     "text": [
      "[1, 2, 3, 4]\n"
     ]
    }
   ],
   "source": [
    "s = {3, 4, 2, 1}\n",
    "print(sorted(s))"
   ]
  },
  {
   "source": [
    "- 字典和集合性能\n",
    "\n",
    "  假设列表有 n 个元素，而查找的过程要遍历列表，那么时间复杂度就为 O(n)。即使我们先对列表进行排序，然后使用二分查找，也会需要 O(logn) 的时间复杂度，更何况，列表的排序还需要 O(nlogn) 的时间。\n",
    "\n",
    "  但如果我们用字典来存储这些数据，那么查找就会非常便捷高效，只需 O(1) 的时间复杂度就可以完成。原因也很简单，字典的内部组成是一张哈希表，你可以直接通过键的哈希值，找到其对应的值。\n",
    "\n",
    "  这与字典、集合内部的数据结构相关。\n",
    "  \n",
    "  - 对于字典而言，这张表存储了哈希值（hash）、键和值这 3 个元素。\n",
    "  - 而对集合来说，区别就是哈希表内没有键和值的配对，只有单一的元素了。\n",
    "\n",
    "  针对字典的内部数据结构而言，随着哈希表的扩张，它会变得越来越稀疏。\n",
    "\n",
    "  这样的设计结构显然非常浪费存储空间。为了提高存储空间的利用率，现在的哈希表除了字典本身的结构，会把索引和哈希值、键、值单独分开。\n",
    "\n",
    "  初期的设计：\n",
    "\n",
    "```\n",
    "--+-------------------------------+\n",
    "  | 哈希值(hash)  键(key)  值(value)\n",
    "--+-------------------------------+\n",
    "0 |    hash0      key0    value0\n",
    "--+-------------------------------+\n",
    "1 |    hash1      key1    value1\n",
    "--+-------------------------------+\n",
    "2 |    hash2      key2    value2\n",
    "--+-------------------------------+\n",
    ". |           ...\n",
    "__+_______________________________+\n",
    "```\n",
    "\n",
    "=> 变得稀疏\n",
    "\n",
    "```\n",
    "entries = [\n",
    "  ['--', '--', '--']\n",
    "  [-230273521, 'dob', '1999-01-01'],\n",
    "  ['--', '--', '--'],\n",
    "  ['--', '--', '--'],\n",
    "  [1231236123, 'name', 'mike'],\n",
    "  ['--', '--', '--'],\n",
    "  [9371539127, 'gender', 'male']\n",
    "]\n",
    "```\n",
    "\n",
    "改进设计：\n",
    "\n",
    "```\n",
    "Indices\n",
    "----------------------------------------------------\n",
    "None | index | None | None | index | None | index ...\n",
    "----------------------------------------------------\n",
    "\n",
    "Entries\n",
    "--------------------\n",
    "hash0   key0  value0\n",
    "---------------------\n",
    "hash1   key1  value1\n",
    "---------------------\n",
    "hash2   key2  value2\n",
    "---------------------\n",
    "        ...\n",
    "---------------------\n",
    "```\n",
    "\n",
    "存储结构\n",
    "\n",
    "```\n",
    "indices = [None, 1, None, None, 0, None, 2]\n",
    "entries = [\n",
    "  [1231236123, 'name', 'mike'],\n",
    "  [-230273521, 'dob', '1999-01-01'],\n",
    "  [9371539127, 'gender', 'male']\n",
    "]\n",
    "```\n",
    "\n",
    "插入元素的步骤\n",
    "\n",
    "1. 计算hash(key)\n",
    "2. 计算插入hash表位置index\n",
    "3. 如果哈希表中此位置是空的，那么这个元素就会被插入其中。\n",
    "4. 而如果此位置已被占用，Python 便会比较两个元素的哈希值和键是否相等。\n",
    "   - 若两者都相等，则表明这个元素已经存在，如果值不同，则更新值。\n",
    "   - 若两者中有一个不相等，这种情况我们通常称为哈希冲突（hash collision），意思是两个元素的键不相等，但是哈希值相等。这种情况下，Python 需要解决哈希冲突的算法。（查看源码）\n",
    "\n",
    "查找元素的步骤\n",
    "\n",
    "1. 和插入操作类似，Python 计算哈希值和index，定位到index位置；\n",
    "2. 比较哈希表这个位置中元素的哈希值和键，与需要查找的元素是否相等。\n",
    "   - 如果相等，则直接返回；\n",
    "   - 如果不等，则继续查找，直到找到空位或者抛出异常为止。\n",
    "\n",
    "删除元素的步骤\n",
    "\n",
    "与查找类似，定位到hash表，Python 会暂时对这个位置的元素，赋于一个特殊的值，等到重新调整哈希表的大小时，再将其删除。\n",
    "\n",
    "哈希冲突的发生，往往会降低字典和集合操作的速度。因此，为了保证其高效性，字典和集合内的哈希表，通常会保证其至少留有 1/3 的剩余空间。随着元素的不停插入，当剩余空间小于 1/3 时，Python 会重新获取更大的内存空间，扩充哈希表。这种情况下，表内所有的元素位置都会被重新排放。虽然哈希冲突和哈希表大小的调整，都会导致速度减缓，但是这种情况发生的次数极少。所以，平均情况下，这仍能保证插入、查找和删除的时间复杂度为 O(1)。\n",
    "\n"
   ],
   "cell_type": "markdown",
   "metadata": {}
  },
  {
   "source": [
    "### 思考题"
   ],
   "cell_type": "markdown",
   "metadata": {}
  },
  {
   "source": [
    "import dis\n",
    "\n",
    "def keyword_init():\n",
    "  d = {'name': 'jason', 'age': 20, 'gender': 'male'}\n",
    "\n",
    "def dict_init():\n",
    "  d = dict({'name': 'jason', 'age': 20, 'gender': 'male'})\n",
    "\n",
    "# 性能分析\n",
    "dis.dis(keyword_init)\n",
    "dis.dis(dict_init)\n",
    "\n",
    "%timeit keyword_init\n",
    "%timeit dict_init\n"
   ],
   "cell_type": "code",
   "metadata": {},
   "execution_count": 48,
   "outputs": [
    {
     "output_type": "stream",
     "name": "stdout",
     "text": [
      "  4           0 LOAD_CONST               1 ('jason')\n",
      "              2 LOAD_CONST               2 (20)\n",
      "              4 LOAD_CONST               3 ('male')\n",
      "              6 LOAD_CONST               4 (('name', 'age', 'gender'))\n",
      "              8 BUILD_CONST_KEY_MAP      3\n",
      "             10 STORE_FAST               0 (d)\n",
      "             12 LOAD_CONST               0 (None)\n",
      "             14 RETURN_VALUE\n",
      "  7           0 LOAD_GLOBAL              0 (dict)\n",
      "              2 LOAD_CONST               1 ('jason')\n",
      "              4 LOAD_CONST               2 (20)\n",
      "              6 LOAD_CONST               3 ('male')\n",
      "              8 LOAD_CONST               4 (('name', 'age', 'gender'))\n",
      "             10 BUILD_CONST_KEY_MAP      3\n",
      "             12 CALL_FUNCTION            1\n",
      "             14 STORE_FAST               0 (d)\n",
      "             16 LOAD_CONST               0 (None)\n",
      "             18 RETURN_VALUE\n",
      "16.4 ns ± 0.0471 ns per loop (mean ± std. dev. of 7 runs, 100000000 loops each)\n",
      "17.5 ns ± 0.105 ns per loop (mean ± std. dev. of 7 runs, 100000000 loops each)\n"
     ]
    }
   ]
  },
  {
   "cell_type": "code",
   "execution_count": 49,
   "metadata": {},
   "outputs": [
    {
     "output_type": "stream",
     "name": "stdout",
     "text": [
      "28.5 ns ± 0.729 ns per loop (mean ± std. dev. of 7 runs, 10000000 loops each)\n",
      "83.9 ns ± 0.687 ns per loop (mean ± std. dev. of 7 runs, 10000000 loops each)\n"
     ]
    }
   ],
   "source": [
    "%timeit {}\n",
    "%timeit dict()"
   ]
  },
  {
   "cell_type": "code",
   "execution_count": 54,
   "metadata": {},
   "outputs": [
    {
     "output_type": "stream",
     "name": "stdout",
     "text": [
      "         4 function calls in 0.000 seconds\n\n   Ordered by: standard name\n\n   ncalls  tottime  percall  cumtime  percall filename:lineno(function)\n        1    0.000    0.000    0.000    0.000 :0(exec)\n        1    0.000    0.000    0.000    0.000 :0(setprofile)\n        1    0.000    0.000    0.000    0.000 <string>:1(<module>)\n        0    0.000             0.000          profile:0(profiler)\n        1    0.000    0.000    0.000    0.000 profile:0({})\n\n\n         4 function calls in 0.000 seconds\n\n   Ordered by: standard name\n\n   ncalls  tottime  percall  cumtime  percall filename:lineno(function)\n        1    0.000    0.000    0.000    0.000 :0(exec)\n        1    0.000    0.000    0.000    0.000 :0(setprofile)\n        1    0.000    0.000    0.000    0.000 <string>:1(<module>)\n        1    0.000    0.000    0.000    0.000 profile:0(dict)\n        0    0.000             0.000          profile:0(profiler)\n\n\n"
     ]
    }
   ],
   "source": [
    "import profile\n",
    "\n",
    "profile.run('{}')\n",
    "profile.run('dict')"
   ]
  },
  {
   "source": [
    "上面使用了三种方式来分析性能\n",
    "- dis\n",
    "- timeit\n",
    "- profile"
   ],
   "cell_type": "markdown",
   "metadata": {}
  },
  {
   "cell_type": "code",
   "execution_count": 24,
   "metadata": {},
   "outputs": [
    {
     "output_type": "error",
     "ename": "TypeError",
     "evalue": "unhashable type: 'list'",
     "traceback": [
      "\u001b[0;31m---------------------------------------------------------------------------\u001b[0m",
      "\u001b[0;31mTypeError\u001b[0m                                 Traceback (most recent call last)",
      "\u001b[0;32m<ipython-input-24-679873a67c57>\u001b[0m in \u001b[0;36m<module>\u001b[0;34m\u001b[0m\n\u001b[0;32m----> 1\u001b[0;31m \u001b[0md\u001b[0m \u001b[0;34m=\u001b[0m \u001b[0;34m{\u001b[0m\u001b[0;34m'name'\u001b[0m\u001b[0;34m:\u001b[0m \u001b[0;34m'jason'\u001b[0m\u001b[0;34m,\u001b[0m \u001b[0;34m[\u001b[0m\u001b[0;34m'education'\u001b[0m\u001b[0;34m]\u001b[0m\u001b[0;34m:\u001b[0m \u001b[0;34m[\u001b[0m\u001b[0;34m'Tsinghua University'\u001b[0m\u001b[0;34m,\u001b[0m \u001b[0;34m'Stanford University'\u001b[0m\u001b[0;34m]\u001b[0m\u001b[0;34m}\u001b[0m\u001b[0;34m\u001b[0m\u001b[0;34m\u001b[0m\u001b[0m\n\u001b[0m",
      "\u001b[0;31mTypeError\u001b[0m: unhashable type: 'list'"
     ]
    }
   ],
   "source": [
    "d = {'name': 'jason', ['education']: ['Tsinghua University', 'Stanford University']}"
   ]
  },
  {
   "source": [
    "这里的问题是list是可变类型，不可以hash，不可以作为字典的key，换做tuple就可以了"
   ],
   "cell_type": "markdown",
   "metadata": {}
  },
  {
   "cell_type": "code",
   "execution_count": 25,
   "metadata": {},
   "outputs": [],
   "source": [
    "d = {'name': 'jason', ('education'): ['Tsinghua University', 'Stanford University']}"
   ]
  },
  {
   "cell_type": "code",
   "execution_count": null,
   "metadata": {},
   "outputs": [],
   "source": [
    "python 3.7开始字典是有序的，比较一下性能："
   ]
  },
  {
   "cell_type": "code",
   "execution_count": 47,
   "metadata": {},
   "outputs": [
    {
     "output_type": "stream",
     "name": "stdout",
     "text": [
      "17.2 ns ± 1.36 ns per loop (mean ± std. dev. of 7 runs, 100000000 loops each)\n"
     ]
    }
   ],
   "source": [
    "d1 = {'name': 'jason', 'age': 20, 'gender': 'male'}\n",
    "\n",
    "## double star\n",
    "def double_stars():\n",
    "    d2 = {'hobby': 'swim', **d1}\n",
    "\n",
    "%timeit double_stars\n",
    "\n",
    "## update 函数：\n",
    "def dict_update():\n",
    "    d3 = {'hobby': 'swim'}\n",
    "    d3.update(d1)\n",
    "\n",
    "%timeit dict_update"
   ]
  }
 ]
}