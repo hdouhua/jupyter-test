{
 "metadata": {
  "language_info": {
   "codemirror_mode": {
    "name": "ipython",
    "version": 3
   },
   "file_extension": ".py",
   "mimetype": "text/x-python",
   "name": "python",
   "nbconvert_exporter": "python",
   "pygments_lexer": "ipython3",
   "version": "3.6.8-final"
  },
  "orig_nbformat": 2,
  "kernelspec": {
   "name": "python3",
   "display_name": "Python 3"
  }
 },
 "nbformat": 4,
 "nbformat_minor": 2,
 "cells": [
  {
   "source": [
    "# 异常处理\n",
    "\n",
    "内部异常处理 [参考](https://docs.python.org/3/library/exceptions.html#bltin-exceptions)\n"
   ],
   "cell_type": "markdown",
   "metadata": {}
  },
  {
   "source": [
    "## 使用 try 和 except \n",
    "\n",
    "- 在 except block 中加入多种异常的类型\n",
    "\n",
    "   ```python\n",
    "   try:\n",
    "       s = input('please enter two numbers separated by comma: ')\n",
    "       num1 = int(s.split(',')[0].strip())\n",
    "       num2 = int(s.split(',')[1].strip())\n",
    "       ...\n",
    "   except (ValueError, IndexError) as err:\n",
    "       print('Error: {}'.format(err))\n",
    "       \n",
    "   print('continue')\n",
    "   ...\n",
    "   ```\n",
    "\n",
    "- 多个 except block\n",
    "\n",
    "   ```python\n",
    "   try:\n",
    "       s = input('please enter two numbers separated by comma: ')\n",
    "       num1 = int(s.split(',')[0].strip())\n",
    "       num2 = int(s.split(',')[1].strip())\n",
    "       ...\n",
    "   except ValueError as err:\n",
    "       print('Value Error: {}'.format(err))\n",
    "   except IndexError as err:\n",
    "       print('Index Error: {}'.format(err))\n",
    "   \n",
    "   print('continue')\n",
    "   ...\n",
    "   ```\n",
    "\n",
    "- 也可以在 except 后面省略异常类型，这表示与任意异常相匹配\n",
    "\n",
    "   ```python\n",
    "   try:\n",
    "       s = input('please enter two numbers separated by comma: ')\n",
    "       num1 = int(s.split(',')[0].strip())\n",
    "       num2 = int(s.split(',')[1].strip())\n",
    "       ...\n",
    "   except ValueError as err:\n",
    "       print('Value Error: {}'.format(err))\n",
    "   except IndexError as err:\n",
    "       print('Index Error: {}'.format(err))\n",
    "   except:\n",
    "       print('Other error')\n",
    "   \n",
    "   print('continue')\n",
    "   ...\n",
    "   ```\n",
    "\n",
    "- fianlly\n",
    "\n",
    "- 如果多个 except 声明的异常类型都与实际相匹配，那么只有最前面的 except block 会被执行，其他则被忽略。"
   ],
   "cell_type": "markdown",
   "metadata": {}
  },
  {
   "source": [
    "\n",
    "## 自定义异常\n",
    "\n",
    "继承Exception\n",
    "\n"
   ],
   "cell_type": "markdown",
   "metadata": {}
  },
  {
   "cell_type": "code",
   "execution_count": null,
   "metadata": {},
   "outputs": [],
   "source": []
  }
 ]
}