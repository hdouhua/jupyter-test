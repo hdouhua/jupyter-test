{
 "cells": [
  {
   "source": [
    "## list & tuple"
   ],
   "cell_type": "markdown",
   "metadata": {}
  },
  {
   "source": [
    "- 在绝大多数编程语言中，集合的数据类型必须一致。不过，对于 Python 的列表和元组来说，并无此要求："
   ],
   "cell_type": "markdown",
   "metadata": {}
  },
  {
   "cell_type": "code",
   "execution_count": 1,
   "metadata": {},
   "outputs": [
    {
     "output_type": "execute_result",
     "data": {
      "text/plain": "[1, 2, 'hello', 'world']"
     },
     "metadata": {},
     "execution_count": 1
    }
   ],
   "source": [
    "l = [1, 2, 'hello', 'world']\n",
    "l"
   ]
  },
  {
   "cell_type": "code",
   "execution_count": 2,
   "metadata": {},
   "outputs": [
    {
     "output_type": "execute_result",
     "data": {
      "text/plain": "('dao', 22)"
     },
     "metadata": {},
     "execution_count": 2
    }
   ],
   "source": [
    "tup = ('dao', 22)\n",
    "tup"
   ]
  },
  {
   "cell_type": "markdown",
   "metadata": {},
   "source": [
    "- 列表是动态的，长度大小不固定，可以随意地增加、删减或者改变元素（mutable）\n",
    "- 而元组是静态的，长度大小固定，无法增加删减或者改变（immutable）"
   ]
  },
  {
   "cell_type": "code",
   "execution_count": 3,
   "metadata": {},
   "outputs": [
    {
     "output_type": "execute_result",
     "data": {
      "text/plain": "[1, 2, 3, 40]"
     },
     "metadata": {},
     "execution_count": 3
    }
   ],
   "source": [
    "l = [1, 2, 3, 4]\n",
    "l[3] = 40 \n",
    "l"
   ]
  },
  {
   "cell_type": "code",
   "execution_count": 4,
   "metadata": {},
   "outputs": [
    {
     "output_type": "error",
     "ename": "TypeError",
     "evalue": "'tuple' object does not support item assignment",
     "traceback": [
      "\u001b[0;31m---------------------------------------------------------------------------\u001b[0m",
      "\u001b[0;31mTypeError\u001b[0m                                 Traceback (most recent call last)",
      "\u001b[0;32m<ipython-input-4-c2b03e8e4127>\u001b[0m in \u001b[0;36m<module>\u001b[0;34m\u001b[0m\n\u001b[1;32m      1\u001b[0m \u001b[0mtup\u001b[0m \u001b[0;34m=\u001b[0m \u001b[0;34m(\u001b[0m\u001b[0;36m1\u001b[0m\u001b[0;34m,\u001b[0m \u001b[0;36m2\u001b[0m\u001b[0;34m,\u001b[0m \u001b[0;36m3\u001b[0m\u001b[0;34m,\u001b[0m \u001b[0;36m4\u001b[0m\u001b[0;34m)\u001b[0m\u001b[0;34m\u001b[0m\u001b[0;34m\u001b[0m\u001b[0m\n\u001b[0;32m----> 2\u001b[0;31m \u001b[0mtup\u001b[0m\u001b[0;34m[\u001b[0m\u001b[0;36m3\u001b[0m\u001b[0;34m]\u001b[0m \u001b[0;34m=\u001b[0m \u001b[0;36m40\u001b[0m\u001b[0;34m\u001b[0m\u001b[0;34m\u001b[0m\u001b[0m\n\u001b[0m",
      "\u001b[0;31mTypeError\u001b[0m: 'tuple' object does not support item assignment"
     ]
    }
   ],
   "source": [
    "tup = (1, 2, 3, 4)\n",
    "tup[3] = 40"
   ]
  },
  {
   "cell_type": "markdown",
   "metadata": {},
   "source": [
    "- 增加元素"
   ]
  },
  {
   "cell_type": "code",
   "execution_count": 6,
   "metadata": {},
   "outputs": [
    {
     "output_type": "execute_result",
     "data": {
      "text/plain": "(1, 2, 3, 4, 5)"
     },
     "metadata": {},
     "execution_count": 6
    }
   ],
   "source": [
    "tup = (1, 2, 3, 4)\n",
    "new_tup = tup + (5, )\n",
    "new_tup"
   ]
  },
  {
   "cell_type": "code",
   "execution_count": 7,
   "metadata": {},
   "outputs": [
    {
     "output_type": "execute_result",
     "data": {
      "text/plain": "[1, 2, 3, 4, 5]"
     },
     "metadata": {},
     "execution_count": 7
    }
   ],
   "source": [
    "l = [1, 2, 3, 4]\n",
    "l.append(5)\n",
    "l"
   ]
  },
  {
   "cell_type": "markdown",
   "metadata": {},
   "source": [
    "- Python 中的列表和元组都支持负数索引  \n",
    "  -1 表示最后一个元素，-2 表示倒数第二个元素，以此类推\n",
    "- 列表和元组都支持切片操作\n",
    "- 可以随意嵌套\n",
    "- 也可以通过 list() 和 tuple() 函数相互转换"
   ]
  },
  {
   "cell_type": "code",
   "execution_count": 27,
   "metadata": {},
   "outputs": [
    {
     "output_type": "execute_result",
     "data": {
      "text/plain": "([4, 5], [6, 7])"
     },
     "metadata": {},
     "execution_count": 27
    }
   ],
   "source": [
    "l = tuple([[1, 2, 3], [4, 5], [6,7]])\n",
    "l[1:3] # index [1,3)"
   ]
  },
  {
   "cell_type": "code",
   "execution_count": 28,
   "metadata": {},
   "outputs": [
    {
     "output_type": "execute_result",
     "data": {
      "text/plain": "[2, 3]"
     },
     "metadata": {},
     "execution_count": 28
    }
   ],
   "source": [
    "tup = list((1, 2, 3, 4))\n",
    "tup[1:3] "
   ]
  },
  {
   "cell_type": "markdown",
   "metadata": {},
   "source": [
    "总结：\n",
    "\n",
    "- 元素不需要改变时: 两三个元素，使用 tuple，元素多一点使用 `namedtuple`。\n",
    "- 元素需要改变时:\n",
    "  - 需要高效随机读取，使用 `list`。\n",
    "  - 需要关键字高效查找，采用 `dict`\n",
    "  - 去重，使用 `set`。\n",
    "  - 大型数据节省空间，使用标准库 `array`。\n",
    "  - 大型数据高效操作，使用 `numpy.array`。"
   ]
  }
 ],
 "metadata": {
  "language_info": {
   "codemirror_mode": {
    "name": "ipython",
    "version": 3
   },
   "file_extension": ".py",
   "mimetype": "text/x-python",
   "name": "python",
   "nbconvert_exporter": "python",
   "pygments_lexer": "ipython3",
   "version": "3.7.6-final"
  },
  "orig_nbformat": 2,
  "kernelspec": {
   "name": "python3",
   "display_name": "Python 3"
  }
 },
 "nbformat": 4,
 "nbformat_minor": 2
}