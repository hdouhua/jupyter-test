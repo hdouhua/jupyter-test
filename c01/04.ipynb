{
 "metadata": {
  "language_info": {
   "codemirror_mode": {
    "name": "ipython",
    "version": 3
   },
   "file_extension": ".py",
   "mimetype": "text/x-python",
   "name": "python",
   "nbconvert_exporter": "python",
   "pygments_lexer": "ipython3",
   "version": "3.7.7-final"
  },
  "orig_nbformat": 2,
  "kernelspec": {
   "name": "python3",
   "display_name": "Python 3"
  }
 },
 "nbformat": 4,
 "nbformat_minor": 2,
 "cells": [
  {
   "source": [
    "# I/O 输入、输出"
   ],
   "cell_type": "markdown",
   "metadata": {}
  },
  {
   "source": [
    "## 标准输入、输出"
   ],
   "cell_type": "markdown",
   "metadata": {}
  },
  {
   "cell_type": "code",
   "execution_count": 3,
   "metadata": {},
   "outputs": [
    {
     "output_type": "stream",
     "name": "stdout",
     "text": [
      "authorizing...\nWelcome to the matrix Mrs douhua.\n"
     ]
    }
   ],
   "source": [
    "name = input('your name:')\n",
    "gender = input('you are a boy?(y/n)')\n",
    "\n",
    "welcome_str = 'Welcome to the matrix {prefix} {name}.'\n",
    "welcome_dic = {\n",
    "    'prefix': 'Mr.' if gender == 'y' else 'Mrs',\n",
    "    'name': name\n",
    "}\n",
    "\n",
    "print('authorizing...')\n",
    "print(welcome_str.format(**welcome_dic))\n"
   ]
  },
  {
   "cell_type": "code",
   "execution_count": 6,
   "metadata": {},
   "outputs": [
    {
     "output_type": "stream",
     "name": "stdout",
     "text": [
      "a + b = 12\ntype of a is <class 'str'>, type of b is <class 'str'>\na + b = 3\n"
     ]
    }
   ],
   "source": [
    "a = input()\n",
    "b = input()\n",
    "\n",
    "print('a + b = {}'.format(a + b))\n",
    "\n",
    "print('type of a is {}, type of b is {}'.format(type(a), type(b)))\n",
    "\n",
    "print('a + b = {}'.format(int(a) + int(b)))"
   ]
  },
  {
   "source": [
    "## 文件输入、输出"
   ],
   "cell_type": "markdown",
   "metadata": {}
  },
  {
   "cell_type": "code",
   "execution_count": 5,
   "metadata": {},
   "outputs": [],
   "source": [
    "import re\n",
    "\n",
    "# 你不用太关心这个函数\n",
    "def parse(text):\n",
    "    # 使用正则表达式去除标点符号和换行符\n",
    "    text = re.sub(r'[^\\w ]', ' ', text)\n",
    "\n",
    "    text = text.lower()\n",
    "    \n",
    "    # 生成所有单词的列表\n",
    "    word_list = text.split(' ')\n",
    "    \n",
    "    # 去除空白单词\n",
    "    word_list = filter(None, word_list)\n",
    "    \n",
    "    # 生成单词和词频的字典\n",
    "    word_cnt = {}\n",
    "    for word in word_list:\n",
    "        if word not in word_cnt:\n",
    "            word_cnt[word] = 0\n",
    "        word_cnt[word] += 1\n",
    "    \n",
    "    # 按照词频排序\n",
    "    sorted_word_cnt = sorted(word_cnt.items(), key=lambda kv: kv[1], reverse=True)\n",
    "    \n",
    "    return sorted_word_cnt\n",
    "\n",
    "with open('in.txt', 'r') as fin:\n",
    "    text = fin.read()\n",
    "\n",
    "word_and_freq = parse(text)\n",
    "\n",
    "with open('out.txt', 'w') as fout:\n",
    "    for word, freq in word_and_freq:\n",
    "        fout.write('{} {}\\n'.format(word, freq))\n"
   ]
  },
  {
   "source": [
    "## JSON 序列化\n",
    "\n",
    "- json.dumps() 这个函数，接受 Python 的基本数据类型，然后将其序列化为 string；\n",
    "- json.loads() 这个函数，接受一个合法字符串，然后将其反序列化为 Python 的基本数据类型。\n"
   ],
   "cell_type": "markdown",
   "metadata": {}
  },
  {
   "cell_type": "code",
   "execution_count": 8,
   "metadata": {},
   "outputs": [
    {
     "output_type": "stream",
     "name": "stdout",
     "text": [
      "after json serialization\ntype of params_str = <class 'str'>, params_str = {\"symbol\": \"123456\", \"type\": \"limit\", \"price\": 123.4, \"amount\": 23}\nafter json deserialization\ntype of original_params = <class 'dict'>, original_params = {'symbol': '123456', 'type': 'limit', 'price': 123.4, 'amount': 23}\n"
     ]
    }
   ],
   "source": [
    "import json\n",
    "\n",
    "params = {\n",
    "    'symbol': '123456',\n",
    "    'type': 'limit',\n",
    "    'price': 123.4,\n",
    "    'amount': 23\n",
    "}\n",
    "\n",
    "params_str = json.dumps(params)\n",
    "print('after json serialization')\n",
    "print('type of params_str = {}, params_str = {}'.format(type(params_str), params_str))\n",
    "\n",
    "original_params = json.loads(params_str)\n",
    "print('after json deserialization')\n",
    "print('type of original_params = {}, original_params = {}'.format(type(original_params), original_params))\n"
   ]
  },
  {
   "cell_type": "code",
   "execution_count": 10,
   "metadata": {},
   "outputs": [],
   "source": [
    "with open('params.json', 'w') as fout:\n",
    "    fout.write(params_str)"
   ]
  },
  {
   "cell_type": "code",
   "execution_count": 12,
   "metadata": {},
   "outputs": [
    {
     "output_type": "execute_result",
     "data": {
      "text/plain": [
       "{'symbol': '123456', 'type': 'limit', 'price': 123.4, 'amount': 23}"
      ]
     },
     "metadata": {},
     "execution_count": 12
    }
   ],
   "source": [
    "with open('params.json', 'r') as fin:\n",
    "    obj = json.loads(fin.read())\n",
    "obj"
   ]
  },
  {
   "source": [
    "## 思考题\n",
    "\n",
    "你能否把 NLP 例子中的 word count 实现一遍？不过这次，in.txt 可能非常非常大（意味着你不能一次读取到内存中），而 out.txt 不会很大（意味着重复的单词数量很多）。\n"
   ],
   "cell_type": "markdown",
   "metadata": {}
  },
  {
   "source": [
    "!python3 word_count.py"
   ],
   "cell_type": "code",
   "metadata": {},
   "execution_count": 1,
   "outputs": [
    {
     "output_type": "stream",
     "name": "stdout",
     "text": [
      "and 15\nbe 13\nwill 11\nto 11\nthe 10\nof 10\na 8\nwe 8\nday 6\nable 6\nevery 6\ntogether 6\ni 5\nhave 5\ndream 5\nthat 5\none 5\nwith 5\nthis 5\nin 4\nshall 4\nfree 4\nwhen 4\nlittle 3\nblack 3\nwhite 3\nmade 3\nfaith 3\nat 3\nlast 3\nchildren 2\nnation 2\nby 2\ntheir 2\ntoday 2\nalabama 2\nboys 2\ngirls 2\njoin 2\nhands 2\nmountain 2\nplaces 2\nall 2\nit 2\nour 2\nhope 2\nup 2\nfreedom 2\nring 2\nfrom 2\ngod 2\nmen 2\nmy 1\nfour 1\nlive 1\nwhere 1\nthey 1\nnot 1\njudged 1\ncolor 1\nskin 1\nbut 1\ncontent 1\ncharacter 1\ndown 1\nits 1\nvicious 1\nracists 1\nright 1\nthere 1\nas 1\nsisters 1\nbrothers 1\nvalley 1\nexalted 1\nhill 1\nlow 1\nrough 1\nplain 1\ncrooked 1\nstraight 1\nglory 1\nlord 1\nrevealed 1\nflesh 1\nsee 1\nis 1\nhew 1\nout 1\ndespair 1\nstone 1\ntransform 1\njangling 1\ndiscords 1\ninto 1\nbeautiful 1\nsymphony 1\nbrotherhood 1\nwork 1\npray 1\nstruggle 1\ngo 1\njail 1\nstand 1\nfor 1\nknowing 1\nhappens 1\nallow 1\nlet 1\nvillage 1\nhamlet 1\nstate 1\ncity 1\nspeed 1\ns 1\njews 1\ngentiles 1\nprotestants 1\ncatholics 1\nsing 1\nwords 1\nold 1\nnegro 1\nspiritual 1\nthank 1\nalmighty 1\nare 1\n"
     ]
    }
   ]
  }
 ]
}