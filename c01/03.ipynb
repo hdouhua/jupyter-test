{
 "metadata": {
  "language_info": {
   "codemirror_mode": {
    "name": "ipython",
    "version": 3
   },
   "file_extension": ".py",
   "mimetype": "text/x-python",
   "name": "python",
   "nbconvert_exporter": "python",
   "pygments_lexer": "ipython3",
   "version": "3.7.7-final"
  },
  "orig_nbformat": 2,
  "kernelspec": {
   "name": "python3",
   "display_name": "Python 3"
  }
 },
 "nbformat": 4,
 "nbformat_minor": 2,
 "cells": [
  {
   "source": [
    "# 字符串"
   ],
   "cell_type": "markdown",
   "metadata": {}
  },
  {
   "cell_type": "code",
   "execution_count": 1,
   "metadata": {},
   "outputs": [
    {
     "output_type": "stream",
     "name": "stdout",
     "text": [
      "a\nb\tc\n"
     ]
    },
    {
     "output_type": "execute_result",
     "data": {
      "text/plain": [
       "5"
      ]
     },
     "metadata": {},
     "execution_count": 1
    }
   ],
   "source": [
    "s = 'a\\nb\\tc'\n",
    "print(s)\n",
    "len(s)"
   ]
  },
  {
   "source": [
    "- 常用操作"
   ],
   "cell_type": "markdown",
   "metadata": {}
  },
  {
   "cell_type": "code",
   "execution_count": 5,
   "metadata": {},
   "outputs": [
    {
     "output_type": "stream",
     "name": "stdout",
     "text": [
      "h\ndo\n"
     ]
    }
   ],
   "source": [
    "name = 'hdouhua'\n",
    "print(name[0])\n",
    "print(name[1:3])"
   ]
  },
  {
   "source": [
    "Python 的字符串是不可变的（immutable）"
   ],
   "cell_type": "markdown",
   "metadata": {}
  },
  {
   "cell_type": "code",
   "execution_count": 9,
   "metadata": {},
   "outputs": [
    {
     "output_type": "error",
     "ename": "TypeError",
     "evalue": "'str' object does not support item assignment",
     "traceback": [
      "\u001b[0;31m---------------------------------------------------------------------------\u001b[0m",
      "\u001b[0;31mTypeError\u001b[0m                                 Traceback (most recent call last)",
      "\u001b[0;32m<ipython-input-9-b2cadb1da399>\u001b[0m in \u001b[0;36m<module>\u001b[0;34m\u001b[0m\n\u001b[1;32m      1\u001b[0m \u001b[0ms\u001b[0m \u001b[0;34m=\u001b[0m \u001b[0;34m'hello'\u001b[0m\u001b[0;34m\u001b[0m\u001b[0;34m\u001b[0m\u001b[0m\n\u001b[0;32m----> 2\u001b[0;31m \u001b[0ms\u001b[0m\u001b[0;34m[\u001b[0m\u001b[0;36m0\u001b[0m\u001b[0;34m]\u001b[0m \u001b[0;34m=\u001b[0m \u001b[0;34m'H'\u001b[0m\u001b[0;34m\u001b[0m\u001b[0;34m\u001b[0m\u001b[0m\n\u001b[0m",
      "\u001b[0;31mTypeError\u001b[0m: 'str' object does not support item assignment"
     ]
    }
   ],
   "source": [
    "s = 'hello'\n",
    "s[0] = 'H'"
   ]
  },
  {
   "cell_type": "code",
   "execution_count": 10,
   "metadata": {},
   "outputs": [
    {
     "output_type": "execute_result",
     "data": {
      "text/plain": [
       "'Hello'"
      ]
     },
     "metadata": {},
     "execution_count": 10
    }
   ],
   "source": [
    "s = 'H' + s[1:]\n",
    "s = s.replace('h', 'H')\n",
    "s"
   ]
  },
  {
   "source": [
    "Python 中并没有类似StringBuilder之类的数据类型，但，可以使用加法操作符'+='的字符串拼接方法。因为它是一个例外，打破了字符串不可变的特性。\n",
    "\n",
    "自从 Python2.5 开始，每次处理字符串的拼接操作时（str1 += str2），Python 首先会检测 str1 还有没有其他的引用。如果没有的话，就会尝试原地扩充字符串 buffer 的大小，而不是重新分配一块内存来创建新的字符串并拷贝"
   ],
   "cell_type": "markdown",
   "metadata": {}
  },
  {
   "cell_type": "code",
   "execution_count": 13,
   "metadata": {},
   "outputs": [
    {
     "output_type": "stream",
     "name": "stdout",
     "text": [
      "CPU times: user 30.4 ms, sys: 1.72 ms, total: 32.2 ms\nWall time: 31.4 ms\n"
     ]
    }
   ],
   "source": [
    "%%time\n",
    "l = []\n",
    "for n in range(0, 100000):\n",
    "    l.append(str(n))\n",
    "l = ' '.join(l)"
   ]
  },
  {
   "cell_type": "code",
   "execution_count": 14,
   "metadata": {},
   "outputs": [
    {
     "output_type": "stream",
     "name": "stdout",
     "text": [
      "CPU times: user 38.6 ms, sys: 1.02 ms, total: 39.6 ms\nWall time: 39 ms\n"
     ]
    }
   ],
   "source": [
    "%%time\n",
    "s = ''\n",
    "for n in range(0, 100000):\n",
    "    s += str(n)"
   ]
  },
  {
   "cell_type": "code",
   "execution_count": 19,
   "metadata": {},
   "outputs": [
    {
     "output_type": "stream",
     "name": "stdout",
     "text": [
      "CPU times: user 46 µs, sys: 1 µs, total: 47 µs\nWall time: 48.9 µs\n"
     ]
    }
   ],
   "source": [
    "%%time\n",
    "l = []\n",
    "for n in range(0, 100):\n",
    "    l.append(str(n))\n",
    "l = ' '.join(l)"
   ]
  },
  {
   "cell_type": "code",
   "execution_count": 20,
   "metadata": {},
   "outputs": [
    {
     "output_type": "stream",
     "name": "stdout",
     "text": [
      "CPU times: user 37 µs, sys: 0 ns, total: 37 µs\nWall time: 39.1 µs\n"
     ]
    }
   ],
   "source": [
    "%%time\n",
    "s = ''\n",
    "for n in range(0, 100):\n",
    "    s += str(n)"
   ]
  },
  {
   "cell_type": "code",
   "execution_count": 21,
   "metadata": {},
   "outputs": [
    {
     "output_type": "stream",
     "name": "stdout",
     "text": [
      "CPU times: user 22 µs, sys: 0 ns, total: 22 µs\nWall time: 24.8 µs\n"
     ]
    }
   ],
   "source": [
    "%%time\n",
    "s = \" \".join(map(str, range(0, 100)))"
   ]
  },
  {
   "source": [
    "对字符串的其他操作\n",
    "\n",
    "- string.split(separator)，表示把字符串按照 separator 分割成子字符串；\n",
    "- string.strip(str)，表示去掉首尾的 str 字符串；\n",
    "- string.lstrip(str)，表示只去掉开头的 str 字符串；\n",
    "- string.rstrip(str)，表示只去掉尾部的 str 字符串；\n",
    "- string.find(sub, start, end)，表示从 start 到 end 查找字符串中子字符串 sub 的位置；\n",
    "- string.format()，就是所谓的格式化函数；而大括号{}就是所谓的格式符，用来为后面的真实值——变量预留位置\n"
   ],
   "cell_type": "markdown",
   "metadata": {}
  },
  {
   "cell_type": "code",
   "execution_count": 22,
   "metadata": {},
   "outputs": [
    {
     "output_type": "stream",
     "name": "stdout",
     "text": [
      "no data available for person with id: 123456, name: douhua\nno data available for person with id: 123456, name: douhua\nno data available for person with id: 123456, name: douhua\n"
     ]
    }
   ],
   "source": [
    "id = '123456'\n",
    "name = 'douhua'\n",
    "# 老的写法\n",
    "print('no data available for person with id: %s, name: %s' % (id, name))\n",
    "# 新规范\n",
    "print('no data available for person with id: {}, name: {}'.format(id, name))\n",
    "# f-strings\n",
    "print(f'no data available for person with id: {id}, name: {name}')"
   ]
  },
  {
   "cell_type": "code",
   "execution_count": null,
   "metadata": {},
   "outputs": [],
   "source": []
  }
 ]
}