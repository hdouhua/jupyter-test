{
 "metadata": {
  "language_info": {
   "codemirror_mode": {
    "name": "ipython",
    "version": 3
   },
   "file_extension": ".py",
   "mimetype": "text/x-python",
   "name": "python",
   "nbconvert_exporter": "python",
   "pygments_lexer": "ipython3",
   "version": "3.7.7-final"
  },
  "orig_nbformat": 2,
  "kernelspec": {
   "name": "python3",
   "display_name": "Python 3.7.7 64-bit ('base': conda)",
   "metadata": {
    "interpreter": {
     "hash": "0353003b164be0642e33afb02724bda0ba1f40f30d4d7e5996e46d8aa1b66523"
    }
   }
  }
 },
 "nbformat": 4,
 "nbformat_minor": 2,
 "cells": [
  {
   "source": [
    "# metaclass\n",
    "\n",
    "很多中文书籍将它翻译成“元类”，事实上，meta-class 的 meta 这个词根，起源于希腊语词汇 meta，包含下面两种意思：\n",
    "\n",
    "- “Beyond”，例如技术词汇 metadata，意思是描述数据的超越数据；\n",
    "- “Change”，例如技术词汇 metamorphosis，意思是改变的形态。\n",
    "\n",
    "咱就从它“超越类”和“变形类”的“超越变形”特性着手吧\n",
    "\n",
    "## YAML\n",
    "\n",
    "YAML 的动态 序列化 / 反序列化 是由 metaclass 实现的（极少人知道，可能只有 1%）\n"
   ],
   "cell_type": "markdown",
   "metadata": {}
  },
  {
   "cell_type": "code",
   "execution_count": 1,
   "metadata": {},
   "outputs": [
    {
     "output_type": "stream",
     "name": "stdout",
     "text": [
      "!Monster\nac: 16\nattacks:\n- BITE\n- HURT\nhp:\n- 2\n- 6\nname: Cave spider\n\n[2, 6]\n!Monster\nac: 16\nattacks:\n- BITE\n- HURT\nhp:\n- 3\n- 6\nname: Cave lizard\n\n"
     ]
    }
   ],
   "source": [
    "import yaml\n",
    "\n",
    "class Monster(yaml.YAMLObject):\n",
    "    # 如果没有显示赋值 yaml_tag，\n",
    "    # 那么就是 !!python/object:__main__.Monster\n",
    "    yaml_tag = u'!Monster'\n",
    "\n",
    "    def __init__(self, name, hp, ac, attacks):\n",
    "        self.name = name\n",
    "        self.hp = hp\n",
    "        self.ac = ac\n",
    "        self.attacks = attacks\n",
    "\n",
    "    def __repr__(self):\n",
    "        # return f'{self.__class__.__name__}(name={self.name}, hp={self.hp}, ac={self.ac}, attacks={self.attacks})'\n",
    "        return \"%s(name=%r, hp=%r, ac=%r, attacks=%r)\" % (\n",
    "            self.__class__.__name__, self.name, self.hp, self.ac,\n",
    "            self.attacks)\n",
    "\n",
    "\n",
    "data = yaml.load(\"\"\"\n",
    "--- !Monster\n",
    "name: Cave spider\n",
    "hp: [2,6]    # 2d6\n",
    "ac: 16\n",
    "attacks: [BITE, HURT]\n",
    "\"\"\")\n",
    "print(yaml.dump(data))\n",
    "print(data.hp)\n",
    "\n",
    "# print(Monster(name='Cave lizard', hp=[3,6], ac=16, attacks=['BITE','HURT']))\n",
    "print(yaml.dump(Monster(name='Cave lizard', hp=[3,6], ac=16, attacks=['BITE','HURT'])))"
   ]
  },
  {
   "source": [
    "上面这个例子，为了实现 序列化 和 反序列化，需要在 Monster 类定义后面加上下面这行代码：`add_constructor(Monster)`。\n",
    "\n",
    "对于 YAML 的使用者来说，每一个 YAML 的可逆序列化的类 Foo 定义后，都需要加上一句话，`add_constructor(Foo)`。这无疑给开发者增加了麻烦，也更容易出错，毕竟开发者很容易忘了这一点。那么，更优的实现方式是什么样呢？\n",
    "\n",
    "翻阅 YAML 的源码\n",
    "\n",
    "```yaml\n",
    "# Python 2/3 相同部分\n",
    "class YAMLObjectMetaclass(type):\n",
    "    def __init__(cls, name, bases, kwds):\n",
    "        super(YAMLObjectMetaclass, cls).__init__(name, bases, kwds)\n",
    "        if 'yaml_tag' in kwds and kwds['yaml_tag'] is not None:\n",
    "            cls.yaml_loader.add_constructor(cls.yaml_tag, cls.from_yaml)\n",
    "    # 省略其余定义\n",
    "\n",
    "# Python 3\n",
    "class YAMLObject(metaclass=YAMLObjectMetaclass):\n",
    "    yaml_loader = Loader\n",
    "    # 省略其余定义\n",
    "\n",
    "# Python 2\n",
    "class YAMLObject(object):\n",
    "    __metaclass__ = YAMLObjectMetaclass\n",
    "    yaml_loader = Loader\n",
    "    # 省略其余定义\n",
    "```\n",
    "\n",
    "可以看出无论是 python 2 还是python 3， YAMLObject 把 metaclass 都声明成了 YAMLObjectMetaclass。\n",
    "\n",
    "这行代码 `cls.yaml_loader.add_constructor(cls.yaml_tag, cls.from_yaml)` 是魔法发生的地方。\n",
    "\n",
    "YAML 应用 metaclass，拦截了所有 YAMLObject 子类的定义，把代码 `add_constructor(Foo)` 给自动加上了。\n"
   ],
   "cell_type": "markdown",
   "metadata": {}
  },
  {
   "source": [
    "## Python 底层语言设计层面是如何实现 metaclass 的？\n",
    "\n",
    "### 第一，所有的 Python 的用户定义类，都是 type 这个类的实例。\n",
    "\n",
    "下面这个例子：\n",
    "\n",
    "instance 是 MyClass 的实例，而 MyClass 不过是“上帝”type 的实例。"
   ],
   "cell_type": "markdown",
   "metadata": {}
  },
  {
   "cell_type": "code",
   "execution_count": 2,
   "metadata": {},
   "outputs": [
    {
     "output_type": "stream",
     "name": "stdout",
     "text": [
      "instance:  <class '__main__.MyClass'>\nMyClass:  <class 'type'>\n"
     ]
    }
   ],
   "source": [
    "class MyClass:\n",
    "  pass\n",
    "\n",
    "instance = MyClass()\n",
    "\n",
    "print('instance: ', type(instance))\n",
    "print('MyClass: ', type(MyClass))\n"
   ]
  },
  {
   "source": [
    "### 第二，用户自定义类，只不过是 type 类的 `__call__` 运算符重载。\n",
    "\n",
    "简单来说，当我们定义\n",
    "\n",
    "```python\n",
    "class MyClass:\n",
    "  data = 1\n",
    "```\n",
    "\n",
    "真正执行的是\n",
    "\n",
    "```python\n",
    "class = type(classname, superclasses, attributedict)\n",
    "```\n",
    "\n",
    "等号右边的 `type(classname, superclasses, attributedict)`，就是 type 的 `__call__` 运算符重载，它会进一步调用：\n",
    "\n",
    "```python\n",
    "type.__new__(typeclass, classname, superclasses, attributedict)\n",
    "type.__init__(class, classname, superclasses, attributedict)\n",
    "```\n"
   ],
   "cell_type": "markdown",
   "metadata": {}
  },
  {
   "cell_type": "code",
   "execution_count": 3,
   "metadata": {},
   "outputs": [
    {
     "output_type": "execute_result",
     "data": {
      "text/plain": [
       "(__main__.MyClass, <__main__.MyClass at 0x7f84b0030210>, 1)"
      ]
     },
     "metadata": {},
     "execution_count": 3
    }
   ],
   "source": [
    "class MyClass:\n",
    "  data = 1\n",
    "  \n",
    "instance = MyClass()\n",
    "MyClass, instance, instance.data"
   ]
  },
  {
   "cell_type": "code",
   "execution_count": 4,
   "metadata": {},
   "outputs": [
    {
     "output_type": "execute_result",
     "data": {
      "text/plain": [
       "(__main__.MyClass, <__main__.MyClass at 0x7f84f835d110>, 1)"
      ]
     },
     "metadata": {},
     "execution_count": 4
    }
   ],
   "source": [
    "# type(classname, superclasses, attributedict)\n",
    "MyClass = type('MyClass', (), {'data': 1})\n",
    "\n",
    "instance = MyClass()\n",
    "MyClass, instance, instance.data"
   ]
  },
  {
   "source": [
    "### 第三，metaclass 是 type 的子类，通过替换 type 的 `__call__` 运算符重载机制，“超越变形”正常的类。\n",
    "\n",
    "理解了以上几点，我们就会明白，正是 Python 的类创建机制，给了 metaclass 大展身手的机会。一旦你把一个类型 MyClass 的 metaclass 设置成 MyMeta，MyClass 就不再由原生的 type 创建，而是会调用 MyMeta 的 `__call__` 运算符重载。\n",
    "\n",
    "```python\n",
    "class = type(classname, superclasses, attributedict) \n",
    "# 变为了\n",
    "class = MyMeta(classname, superclasses, attributedict)\n",
    "```\n",
    "\n",
    "现在可以理解上面 YAML 的例子中，利用 YAMLObjectMetaclass 的 `__init__` 方法，为所有 YAMLObject 子类偷偷执行 `add_constructor()`。\n",
    "\n",
    "## 使用 metaclass 的风险\n",
    "\n",
    "凡事有利必有弊，尤其是 metaclass 这样“逆天”的存在。正如你所看到的那样，metaclass 会\"扭曲变形\"正常的 Python 类型模型。所以，如果使用不慎，对于整个代码库造成的风险是不可估量的。\n"
   ],
   "cell_type": "markdown",
   "metadata": {}
  },
  {
   "source": [
    "## 思考题\n",
    "\n",
    "Python 装饰器 和 metaclass，它们都能干预正常的 Python 类型机制。那么，你觉得装饰器和 metaclass 有什么区别呢？\n",
    "\n",
    "metaclass 通过重载 `__call__` 来修改类的行为，而装饰器是通过将原函数进行包装来修改原函数的功能。\n",
    "\n",
    "两者都对原有的功能进行了扩展，但是实现思路不一样，metaclass 是从类型机制这个角度，而装饰器主要从函数的角度，装饰器更加轻量级（因此更加适合业务应用层面），而 metaclass 更加重量级一些（可以看成是“大招”，也因此更加适合框架层面）。\n"
   ],
   "cell_type": "markdown",
   "metadata": {}
  },
  {
   "source": [
    "## 附加示例\n"
   ],
   "cell_type": "markdown",
   "metadata": {}
  },
  {
   "cell_type": "code",
   "execution_count": 7,
   "metadata": {},
   "outputs": [
    {
     "output_type": "stream",
     "name": "stdout",
     "text": [
      "==>MyMeta.__new__\n   cls.__name__:  MyMeta\n==>MyMeta.__init__\n   cls.__name__:  Foo\n   attributedict:  {'__module__': 'my_meta', '__qualname__': 'Foo', 'yaml_tag': '!Foo', '__init__': <function Foo.__init__ at 0x7f84f889e950>, '__new__': <function Foo.__new__ at 0x7f84f889e9e0>, '__repr__': <function Foo.__repr__ at 0x7f84f889ea70>}\n==>MyMeta.__call__\nFoo.__new__\nFoo.__init__\n!!python/object:my_meta.Foo\ngreeting: hello world\nname: foo\n\n----------\nFoo2.__new__\n==>MyClass.__init__\n   self.__name__:  Foo2\nFoo2.__init__\nfoo2\n!Foo2\nname: foo2\n\n----------\n==>MyClass.__new__\n   cls.__name__:  MyClass\n==>MyClass.__init__\n   self.__name__:  MyClass\nsuper_foo3\n!MyClass\nname: super_foo3\n\n----------\nFoo.__new__\nFoo.__repr__\nFoo(name=Cave spider, greeting=Good Afternoon)\n!!python/object:__main__.Foo\ngreeting: Good Afternoon\nname: Cave spider\n\n"
     ]
    }
   ],
   "source": [
    "from my_meta import run_test\n",
    "\n",
    "run_test()"
   ]
  },
  {
   "cell_type": "code",
   "execution_count": 9,
   "metadata": {},
   "outputs": [
    {
     "output_type": "execute_result",
     "data": {
      "text/plain": [
       "{'data_root': '/home/fengyifan/data/features',\n",
       " 'modelnet40_ft': '/home/fengyifan/data/features/ModelNet40_mvcnn_gvcnn.mat',\n",
       " 'ntu2012_ft': '/home/fengyifan/data/features/NTU2012_mvcnn_gvcnn.mat',\n",
       " 'graph_type': 'hypergraph',\n",
       " 'K_neigs': [10],\n",
       " 'm_prob': 1.0,\n",
       " 'is_probH': True,\n",
       " 'use_mvcnn_feature_for_structure': True,\n",
       " 'use_gvcnn_feature_for_structure': True,\n",
       " 'on_dataset': 'ModelNet40',\n",
       " 'use_mvcnn_feature': False,\n",
       " 'use_gvcnn_feature': True,\n",
       " 'result_root': '/home/fengyifan/result/hgnn',\n",
       " 'result_sub_folder': '/home/fengyifan/result/hgnn/hypergraph_ModelNet40',\n",
       " 'ckpt_folder': '/home/fengyifan/result/hgnn/ckpt',\n",
       " 'max_epoch': 600,\n",
       " 'n_hid': 128,\n",
       " 'lr': 0.001,\n",
       " 'milestones': [100],\n",
       " 'gamma': 0.9,\n",
       " 'drop_out': 0.5,\n",
       " 'print_freq': 50,\n",
       " 'weight_decay': 0.0005,\n",
       " 'decay_step': 200,\n",
       " 'decay_rate': 0.7}"
      ]
     },
     "metadata": {},
     "execution_count": 9
    }
   ],
   "source": [
    "import os\n",
    "from yaml_test import get_config\n",
    "\n",
    "# file_path = os.path.join(os.getcwd(), 'yaml_test.py')\n",
    "# %load file_path\n",
    "\n",
    "config_path = os.path.join(os.getcwd(), 'test_config.yaml')\n",
    "\n",
    "config = get_config(config_file=config_path)\n",
    "config"
   ]
  }
 ]
}