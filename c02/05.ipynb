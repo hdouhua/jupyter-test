{
 "metadata": {
  "language_info": {
   "codemirror_mode": {
    "name": "ipython",
    "version": 3
   },
   "file_extension": ".py",
   "mimetype": "text/x-python",
   "name": "python",
   "nbconvert_exporter": "python",
   "pygments_lexer": "ipython3",
   "version": "3.7.7-final"
  },
  "orig_nbformat": 2,
  "kernelspec": {
   "name": "python3",
   "display_name": "Python 3.7.7 64-bit ('base': conda)",
   "metadata": {
    "interpreter": {
     "hash": "0353003b164be0642e33afb02724bda0ba1f40f30d4d7e5996e46d8aa1b66523"
    }
   }
  }
 },
 "nbformat": 4,
 "nbformat_minor": 2,
 "cells": [
  {
   "source": [
    "# 迭代器和生成器\n",
    "\n",
    "## 迭代器\n",
    "\n",
    "在 Python 中一切皆对象，对象的抽象就是类，而对象的集合就是容器。\n",
    "\n",
    "所有的容器都是可迭代的（iterable），这里的迭代，和枚举不完全一样。\n",
    "\n",
    "而可迭代对象，可迭代对象调用 iter() 函数，可以得到一个迭代器（iterator）。迭代器可以通过 next() 函数得到下一个元素，实现遍历。迭代器通过 next 的方法，要么得到这个容器的下一个对象，要么得到一个 StopIteration 的错误。\n",
    "\n",
    "- 示例：判断一个对象是否可迭代\n"
   ],
   "cell_type": "markdown",
   "metadata": {}
  },
  {
   "cell_type": "code",
   "execution_count": 1,
   "metadata": {},
   "outputs": [
    {
     "output_type": "stream",
     "name": "stdout",
     "text": [
      "1234 is iterable? False\n1234 is iterable? True\n[1, 2, 3, 4] is iterable? True\n{1, 2, 3, 4} is iterable? True\n{1: 1, 2: 2, 3: 3, 4: 4} is iterable? True\n(1, 2, 3, 4) is iterable? True\n"
     ]
    }
   ],
   "source": [
    "from collections import Iterable\n",
    "\n",
    "def is_iterable(param):\n",
    "    try: \n",
    "        iter(param) \n",
    "        return True\n",
    "    except TypeError:\n",
    "        return False\n",
    "\n",
    "# 使用内建函数实现\n",
    "def is_iterable_2(param):\n",
    "    return isinstance(param, Iterable)\n",
    "\n",
    "params = [\n",
    "    1234,\n",
    "    '1234',\n",
    "    [1, 2, 3, 4],\n",
    "    set([1, 2, 3, 4]),\n",
    "    {1:1, 2:2, 3:3, 4:4},\n",
    "    (1, 2, 3, 4)\n",
    "]\n",
    "    \n",
    "for param in params:\n",
    "    print('{} is iterable? {}'.format(param, is_iterable_2(param)))\n"
   ]
  },
  {
   "source": [
    "## 生成器\n",
    "\n",
    "生成器是一种特殊的迭代器（注意这个逻辑关系反之不成立）。使用生成器，你可以写出来更加清晰的代码；合理使用生成器，可以降低内存占用、优化程序结构、提高程序速度。"
   ],
   "cell_type": "markdown",
   "metadata": {}
  },
  {
   "cell_type": "code",
   "execution_count": 2,
   "metadata": {},
   "outputs": [
    {
     "output_type": "stream",
     "name": "stdout",
     "text": [
      "initing iterator memory used: 21.7734375 MB\n",
      "after iterator initiated memory used: 3499.2578125 MB\n",
      "4999999950000000\n",
      "after sum called memory used: 3499.2578125 MB\n",
      "CPU times: user 4.36 s, sys: 1.26 s, total: 5.62 s\n",
      "Wall time: 5.63 s\n",
      "------------\n",
      "initing generator memory used: 1038.21875 MB\n",
      "after generator initiated memory used: 1038.21875 MB\n",
      "4999999950000000\n",
      "after sum called memory used: 1038.22265625 MB\n",
      "CPU times: user 4.34 s, sys: 11.4 ms, total: 4.35 s\n",
      "Wall time: 4.36 s\n"
     ]
    }
   ],
   "source": [
    "import os\n",
    "import psutil\n",
    "\n",
    "# 显示当前 python 程序占用的内存大小\n",
    "def show_memory_info(hint):\n",
    "    pid = os.getpid()\n",
    "    p = psutil.Process(pid)\n",
    "\n",
    "    info = p.memory_full_info()\n",
    "    memory = info.uss / 1024. / 1024\n",
    "    print('{} memory used: {} MB'.format(hint, memory))\n",
    "\n",
    "def test_iterator():\n",
    "    show_memory_info('initing iterator')\n",
    "    # 声明一个迭代器\n",
    "    test_list = [i for i in range(100_000_000)]\n",
    "    show_memory_info('after iterator initiated')\n",
    "    print(sum(test_list))\n",
    "    show_memory_info('after sum called')\n",
    "\n",
    "def test_generator():\n",
    "    show_memory_info('initing generator')\n",
    "    # 声明一个生成器\n",
    "    test_list = (i for i in range(100_000_000))\n",
    "    show_memory_info('after generator initiated')\n",
    "    print(sum(test_list))\n",
    "    show_memory_info('after sum called')\n",
    "\n",
    "%time test_iterator()\n",
    "print('------------')\n",
    "%time test_generator()"
   ]
  },
  {
   "source": [
    "上面的示例可以看出，生成器较节省内存，同时运行效率较高。\n",
    "\n",
    "迭代器中每个元素在生成后都会保存到内存中，它们占用了巨量的内存，内存不够的话就会出现 OOM 错误。于是，生成器的概念应运而生，在调用 next() 函数的时候，才会生成下一个变量。\n",
    "\n",
    "- 声明一个迭代器很简单，例如，`[i for i in range(100000000)]` 就可以生成一个包含一亿元素的列表。\n",
    "\n",
    "  此处实际上是可迭代对象，使用 iter() 转为迭代器，为方便说明不区分可迭代对象和迭代器\n",
    "  \n",
    "- 生成器在 Python 的写法是用小括号括起来，`(i for i in range(100000000))` 就初始化了一个生成器。\n",
    "- 迭代器是一个有限集合，生成器则可以成为一个无限集。\n",
    "  我们只管调用 next()，生成器根据运算会自动生成新的元素，然后返回。\n",
    "\n",
    "下面我们使用生成器证明数学恒等式：\n",
    "\n",
    "```\n",
    "(1 + 2 + 3 + ... + n)^2 = 1^3 + 2^3 + 3^3 + ... + n^3\n",
    "```"
   ],
   "cell_type": "markdown",
   "metadata": {}
  },
  {
   "cell_type": "code",
   "execution_count": 3,
   "metadata": {},
   "outputs": [
    {
     "output_type": "stream",
     "name": "stdout",
     "text": [
      "next_1 = 1, next_3 = 1\nnext_1 = 2, next_3 = 8\nnext_1 = 3, next_3 = 27\nnext_1 = 4, next_3 = 64\nnext_1 = 5, next_3 = 125\nnext_1 = 6, next_3 = 216\nnext_1 = 7, next_3 = 343\nnext_1 = 8, next_3 = 512\n1296 == 1296\n"
     ]
    }
   ],
   "source": [
    "# 这是一个无限循环的生成器\n",
    "def generator(k):\n",
    "    i = 1\n",
    "    while True:\n",
    "        yield i ** k\n",
    "        i += 1\n",
    "\n",
    "def get_sum(n):\n",
    "    gen_1 = generator(1)\n",
    "    gen_3 = generator(3)\n",
    "    sum_1, sum_3 = 0, 0\n",
    "    for i in range(n):\n",
    "        next_1 = next(gen_1)\n",
    "        next_3 = next(gen_3)\n",
    "        print('next_1 = {}, next_3 = {}'.format(next_1, next_3))\n",
    "        sum_1 += next_1\n",
    "        sum_3 += next_3\n",
    "    print('{} == {}'.format(sum_1 ** 2, sum_3))\n",
    "\n",
    "\n",
    "get_sum(8)\n"
   ]
  },
  {
   "cell_type": "code",
   "execution_count": 4,
   "metadata": {},
   "outputs": [
    {
     "output_type": "stream",
     "name": "stdout",
     "text": [
      "837 ns ± 2.61 ns per loop (mean ± std. dev. of 7 runs, 1000000 loops each)\n"
     ]
    }
   ],
   "source": [
    "# find index its value equals target\n",
    "def index_normal(L, target):\n",
    "    result = []\n",
    "    for i, num in enumerate(L):\n",
    "        if num == target:\n",
    "            result.append(i)\n",
    "    return result\n",
    "\n",
    "%timeit index_normal([1, 6, 2, 4, 5, 2, 8, 6, 3, 2], 2)"
   ]
  },
  {
   "cell_type": "code",
   "execution_count": 5,
   "metadata": {},
   "outputs": [
    {
     "output_type": "stream",
     "name": "stdout",
     "text": [
      "227 ns ± 2.39 ns per loop (mean ± std. dev. of 7 runs, 1000000 loops each)\n"
     ]
    }
   ],
   "source": [
    "# find index its value equals target\n",
    "def index_generator(L, target):\n",
    "    for i, num in enumerate(L):\n",
    "        if num == target:\n",
    "            yield i\n",
    "\n",
    "%timeit index_generator([1, 6, 2, 4, 5, 2, 8, 6, 3, 2], 2)"
   ]
  },
  {
   "source": [
    "## LeetCode 一道题\n",
    "\n",
    "给定两个序列，判定第一个是不是第二个的子序列。<https://leetcode.com/problems/is-subsequence/>\n"
   ],
   "cell_type": "markdown",
   "metadata": {}
  },
  {
   "cell_type": "code",
   "execution_count": 6,
   "metadata": {},
   "outputs": [
    {
     "output_type": "stream",
     "name": "stdout",
     "text": [
      "True\nFalse\n"
     ]
    }
   ],
   "source": [
    "def is_subsequence(a, b):\n",
    "    b = iter(b)\n",
    "    # all 表示全满足则返回 True，否则返回 False\n",
    "    return all(i in b for i in a)\n",
    "\n",
    "print(is_subsequence([1, 3, 5], [1, 2, 3, 4, 5]))\n",
    "print(is_subsequence([1, 4, 3], [1, 2, 3, 4, 5]))"
   ]
  },
  {
   "source": [
    "- 让我们来拆解一下"
   ],
   "cell_type": "markdown",
   "metadata": {}
  },
  {
   "cell_type": "code",
   "execution_count": 7,
   "metadata": {},
   "outputs": [
    {
     "output_type": "stream",
     "name": "stdout",
     "text": [
      "True\nFalse\n"
     ]
    }
   ],
   "source": [
    "def in_subsequence(a, b):\n",
    "    # 这步是关键\n",
    "    b = iter(b)\n",
    "    return ((i in b) for i in a)\n",
    "\n",
    "gen1 = in_subsequence([1, 3, 5], [1, 2, 3, 4, 5])\n",
    "gen2 = in_subsequence([1, 4, 3], [1, 2, 3, 4, 5])\n",
    "\n",
    "# for x in gen1:\n",
    "#     print(x)\n",
    "\n",
    "# print('------------')\n",
    "# for x in gen2:\n",
    "#     print(x)\n",
    "\n",
    "# assert\n",
    "print(all(gen1))\n",
    "print(all(gen2))"
   ]
  },
  {
   "source": [
    "- 分析关键一步 `b = iter(b)` 的必要性"
   ],
   "cell_type": "markdown",
   "metadata": {}
  },
  {
   "cell_type": "code",
   "execution_count": 8,
   "metadata": {},
   "outputs": [
    {
     "output_type": "stream",
     "name": "stdout",
     "text": [
      "i: 1 - b: [1, 2, 3, 4, 5]\ni: 4 - b: [2, 3, 4, 5]\ni: 3 - b: [5]\n"
     ]
    },
    {
     "output_type": "execute_result",
     "data": {
      "text/plain": [
       "[True, True, False]"
      ]
     },
     "metadata": {},
     "execution_count": 8
    }
   ],
   "source": [
    "import copy\n",
    "\n",
    "def is_subsequence(a, b):\n",
    "    b = iter(b)\n",
    "    for i in a:\n",
    "        print('i: {} - b: {}'.format(i, list(copy.deepcopy(b))))\n",
    "        yield i in b\n",
    "\n",
    "gen = is_subsequence([1, 4, 3], [1, 2, 3, 4, 5])\n",
    "\n",
    "list(gen)"
   ]
  },
  {
   "source": [
    "## 思考题\n",
    "\n",
    "对于一个有限元素的生成器，如果迭代完成后，继续调用 next() ，会发生什么呢？生成器可以遍历多次吗？\n",
    "\n",
    "答：生成器迭代完成后，继续调用 next() 会抛出 StopIteration，生成器不可以遍历多次（复位生成器例外）。\n"
   ],
   "cell_type": "markdown",
   "metadata": {}
  },
  {
   "cell_type": "code",
   "execution_count": 9,
   "metadata": {},
   "outputs": [
    {
     "output_type": "stream",
     "name": "stdout",
     "text": [
      "<class 'generator'>\n0\n1\n2\n"
     ]
    },
    {
     "output_type": "error",
     "ename": "StopIteration",
     "evalue": "",
     "traceback": [
      "\u001b[0;31m---------------------------------------------------------------------------\u001b[0m",
      "\u001b[0;31mStopIteration\u001b[0m                             Traceback (most recent call last)",
      "\u001b[0;32m<ipython-input-9-dd315a0a37a8>\u001b[0m in \u001b[0;36m<module>\u001b[0;34m\u001b[0m\n\u001b[1;32m      7\u001b[0m \u001b[0mprint\u001b[0m\u001b[0;34m(\u001b[0m\u001b[0mx\u001b[0m\u001b[0;34m.\u001b[0m\u001b[0m__next__\u001b[0m\u001b[0;34m(\u001b[0m\u001b[0;34m)\u001b[0m\u001b[0;34m)\u001b[0m\u001b[0;34m\u001b[0m\u001b[0;34m\u001b[0m\u001b[0m\n\u001b[1;32m      8\u001b[0m \u001b[0mprint\u001b[0m\u001b[0;34m(\u001b[0m\u001b[0mx\u001b[0m\u001b[0;34m.\u001b[0m\u001b[0m__next__\u001b[0m\u001b[0;34m(\u001b[0m\u001b[0;34m)\u001b[0m\u001b[0;34m)\u001b[0m\u001b[0;34m\u001b[0m\u001b[0;34m\u001b[0m\u001b[0m\n\u001b[0;32m----> 9\u001b[0;31m \u001b[0mprint\u001b[0m\u001b[0;34m(\u001b[0m\u001b[0mx\u001b[0m\u001b[0;34m.\u001b[0m\u001b[0m__next__\u001b[0m\u001b[0;34m(\u001b[0m\u001b[0;34m)\u001b[0m\u001b[0;34m)\u001b[0m\u001b[0;34m\u001b[0m\u001b[0;34m\u001b[0m\u001b[0m\n\u001b[0m",
      "\u001b[0;31mStopIteration\u001b[0m: "
     ]
    }
   ],
   "source": [
    "def test(n):\n",
    "    return (i for i in range(n))\n",
    "\n",
    "x = test(3)\n",
    "print(type(x))\n",
    "print(x.__next__())\n",
    "print(x.__next__())\n",
    "print(x.__next__())\n",
    "print(x.__next__())\n"
   ]
  }
 ]
}