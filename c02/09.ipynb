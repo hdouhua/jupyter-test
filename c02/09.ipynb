{
 "metadata": {
  "language_info": {
   "codemirror_mode": {
    "name": "ipython",
    "version": 3
   },
   "file_extension": ".py",
   "mimetype": "text/x-python",
   "name": "python",
   "nbconvert_exporter": "python",
   "pygments_lexer": "ipython3",
   "version": "3.7.9-final"
  },
  "orig_nbformat": 2,
  "kernelspec": {
   "name": "fine",
   "display_name": "fine"
  }
 },
 "nbformat": 4,
 "nbformat_minor": 2,
 "cells": [
  {
   "source": [
    "# 垃圾回收机制\n",
    "\n",
    "## 对象的计数引用"
   ],
   "cell_type": "markdown",
   "metadata": {}
  },
  {
   "cell_type": "code",
   "execution_count": 2,
   "metadata": {},
   "outputs": [],
   "source": [
    "import os\n",
    "import psutil\n",
    "\n",
    "# 显示当前 python 程序占用的内存大小\n",
    "def show_memory_info(hint):\n",
    "    pid = os.getpid()\n",
    "    p = psutil.Process(pid)\n",
    "    \n",
    "    info = p.memory_full_info()\n",
    "    memory = info.uss / 1024. / 1024\n",
    "    print('{} memory used: {} MB'.format(hint, memory))"
   ]
  },
  {
   "source": [
    "显示内存占用的示例："
   ],
   "cell_type": "markdown",
   "metadata": {}
  },
  {
   "source": [
    "def func():\n",
    "    show_memory_info('initial')\n",
    "    a = [i for i in range(10000000)]\n",
    "    show_memory_info('after a created')\n",
    "\n",
    "func()\n",
    "show_memory_info('finished')\n"
   ],
   "cell_type": "code",
   "metadata": {},
   "execution_count": null,
   "outputs": []
  },
  {
   "cell_type": "code",
   "execution_count": 10,
   "metadata": {},
   "outputs": [
    {
     "output_type": "stream",
     "name": "stdout",
     "text": [
      "initial memory used: 864.234375 MB\n",
      "after a created memory used: 1068.30078125 MB\n",
      "finished memory used: 1068.30078125 MB\n"
     ]
    }
   ],
   "source": [
    "# 调整一下\n",
    "def func():\n",
    "    show_memory_info('initial')\n",
    "    global a\n",
    "    a = [i for i in range(10000000)]\n",
    "    show_memory_info('after a created')\n",
    "\n",
    "func()\n",
    "show_memory_info('finished')"
   ]
  },
  {
   "source": [
    "上面 global a 表示将 a 声明为全局变量。那么，即使函数返回后，列表的引用依然存在，于是对象就不会被垃圾回收掉，依然占用大量内存。"
   ],
   "cell_type": "markdown",
   "metadata": {}
  },
  {
   "cell_type": "code",
   "execution_count": 11,
   "metadata": {},
   "outputs": [
    {
     "output_type": "stream",
     "name": "stdout",
     "text": [
      "initial memory used: 1068.3046875 MB\n"
     ]
    },
    {
     "output_type": "error",
     "ename": "NameError",
     "evalue": "name 'derange' is not defined",
     "traceback": [
      "\u001b[0;31m---------------------------------------------------------------------------\u001b[0m",
      "\u001b[0;31mNameError\u001b[0m                                 Traceback (most recent call last)",
      "\u001b[0;32m<ipython-input-11-a37912c1a597>\u001b[0m in \u001b[0;36m<module>\u001b[0;34m\u001b[0m\n\u001b[1;32m      5\u001b[0m     \u001b[0;32mreturn\u001b[0m \u001b[0ma\u001b[0m\u001b[0;34m\u001b[0m\u001b[0;34m\u001b[0m\u001b[0m\n\u001b[1;32m      6\u001b[0m \u001b[0;34m\u001b[0m\u001b[0m\n\u001b[0;32m----> 7\u001b[0;31m \u001b[0ma\u001b[0m \u001b[0;34m=\u001b[0m \u001b[0mfunc\u001b[0m\u001b[0;34m(\u001b[0m\u001b[0;34m)\u001b[0m\u001b[0;34m\u001b[0m\u001b[0;34m\u001b[0m\u001b[0m\n\u001b[0m\u001b[1;32m      8\u001b[0m \u001b[0mshow_memory_info\u001b[0m\u001b[0;34m(\u001b[0m\u001b[0;34m'finished'\u001b[0m\u001b[0;34m)\u001b[0m\u001b[0;34m\u001b[0m\u001b[0;34m\u001b[0m\u001b[0m\n",
      "\u001b[0;32m<ipython-input-11-a37912c1a597>\u001b[0m in \u001b[0;36mfunc\u001b[0;34m()\u001b[0m\n\u001b[1;32m      1\u001b[0m \u001b[0;32mdef\u001b[0m \u001b[0mfunc\u001b[0m\u001b[0;34m(\u001b[0m\u001b[0;34m)\u001b[0m\u001b[0;34m:\u001b[0m\u001b[0;34m\u001b[0m\u001b[0;34m\u001b[0m\u001b[0m\n\u001b[1;32m      2\u001b[0m     \u001b[0mshow_memory_info\u001b[0m\u001b[0;34m(\u001b[0m\u001b[0;34m'initial'\u001b[0m\u001b[0;34m)\u001b[0m\u001b[0;34m\u001b[0m\u001b[0;34m\u001b[0m\u001b[0m\n\u001b[0;32m----> 3\u001b[0;31m     \u001b[0ma\u001b[0m \u001b[0;34m=\u001b[0m \u001b[0;34m[\u001b[0m\u001b[0mi\u001b[0m \u001b[0;32mfor\u001b[0m \u001b[0mi\u001b[0m \u001b[0;32min\u001b[0m \u001b[0mderange\u001b[0m\u001b[0;34m(\u001b[0m\u001b[0;36m10000000\u001b[0m\u001b[0;34m)\u001b[0m\u001b[0;34m]\u001b[0m\u001b[0;34m\u001b[0m\u001b[0;34m\u001b[0m\u001b[0m\n\u001b[0m\u001b[1;32m      4\u001b[0m     \u001b[0mshow_memory_info\u001b[0m\u001b[0;34m(\u001b[0m\u001b[0;34m'after a created'\u001b[0m\u001b[0;34m)\u001b[0m\u001b[0;34m\u001b[0m\u001b[0;34m\u001b[0m\u001b[0m\n\u001b[1;32m      5\u001b[0m     \u001b[0;32mreturn\u001b[0m \u001b[0ma\u001b[0m\u001b[0;34m\u001b[0m\u001b[0;34m\u001b[0m\u001b[0m\n",
      "\u001b[0;31mNameError\u001b[0m: name 'derange' is not defined"
     ]
    }
   ],
   "source": [
    "def func():\n",
    "    show_memory_info('initial')\n",
    "    a = [i for i in derange(10000000)]\n",
    "    show_memory_info('after a created')\n",
    "    return a\n",
    "\n",
    "a = func()\n",
    "show_memory_info('finished')"
   ]
  },
  {
   "cell_type": "code",
   "execution_count": 12,
   "metadata": {},
   "outputs": [
    {
     "output_type": "stream",
     "name": "stdout",
     "text": [
      "2\n4\n2\n"
     ]
    }
   ],
   "source": [
    "import sys\n",
    "\n",
    "a = []\n",
    "\n",
    "# 两次引用，一次来自 a，一次来自 getrefcount\n",
    "print(sys.getrefcount(a))\n",
    "\n",
    "def func(a):\n",
    "    # 四次引用，a，python 的函数调用栈，函数参数 和 getrefcount\n",
    "    print(sys.getrefcount(a))\n",
    "\n",
    "func(a)\n",
    "\n",
    "# 两次引用，一次来自 a，一次来自 getrefcount，函数 func 调用已经不存在\n",
    "print(sys.getrefcount(a))\n"
   ]
  },
  {
   "source": [
    "sys.getrefcount() 这个函数，可以查看一个变量的引用次数。这段代码本身应该很好理解，不过别忘了，getrefcount 本身也会引入一次计数。\n",
    "\n",
    "在函数调用发生的时候，会产生额外的两次引用，一次来自函数栈，另一个是函数参数。\n"
   ],
   "cell_type": "markdown",
   "metadata": {}
  },
  {
   "cell_type": "code",
   "execution_count": 14,
   "metadata": {},
   "outputs": [
    {
     "output_type": "stream",
     "name": "stdout",
     "text": [
      "2\n3\n8\n"
     ]
    }
   ],
   "source": [
    "import sys\n",
    "\n",
    "a = []\n",
    "print(sys.getrefcount(a)) # 两次\n",
    "\n",
    "b = a\n",
    "print(sys.getrefcount(a)) # 三次\n",
    "\n",
    "c = b\n",
    "d = b\n",
    "e = c\n",
    "f = e\n",
    "g = d\n",
    "print(sys.getrefcount(a)) # 八次"
   ]
  },
  {
   "source": [
    "看到这段代码，需要你稍微注意一下，a、b、c、d、e、f、g 这些变量全部指代的是同一个对象，而 sys.getrefcount() 函数并不是统计一个指针，而是要统计一个对象被引用的次数，所以最后一共会有八次引用。\n",
    "\n",
    "Python 是自动垃圾回收机制，如果要手动触发垃圾回收，方法同样很简单。你只需要先调用 del a 来删除对象的引用；然后强制调用 gc.collect()，清除没有引用的对象，即可手动启动垃圾回收。\n",
    "\n"
   ],
   "cell_type": "markdown",
   "metadata": {}
  },
  {
   "cell_type": "code",
   "execution_count": 15,
   "metadata": {},
   "outputs": [
    {
     "output_type": "stream",
     "name": "stdout",
     "text": [
      "initial memory used: 1055.5625 MB\n",
      "after a created memory used: 1168.23046875 MB\n",
      "finish memory used: 881.03515625 MB\n"
     ]
    },
    {
     "output_type": "error",
     "ename": "NameError",
     "evalue": "name 'a' is not defined",
     "traceback": [
      "\u001b[0;31m---------------------------------------------------------------------------\u001b[0m",
      "\u001b[0;31mNameError\u001b[0m                                 Traceback (most recent call last)",
      "\u001b[0;32m<ipython-input-15-153e15063d8a>\u001b[0m in \u001b[0;36m<module>\u001b[0;34m\u001b[0m\n\u001b[1;32m     11\u001b[0m \u001b[0;34m\u001b[0m\u001b[0m\n\u001b[1;32m     12\u001b[0m \u001b[0mshow_memory_info\u001b[0m\u001b[0;34m(\u001b[0m\u001b[0;34m'finish'\u001b[0m\u001b[0;34m)\u001b[0m\u001b[0;34m\u001b[0m\u001b[0;34m\u001b[0m\u001b[0m\n\u001b[0;32m---> 13\u001b[0;31m \u001b[0mprint\u001b[0m\u001b[0;34m(\u001b[0m\u001b[0ma\u001b[0m\u001b[0;34m)\u001b[0m\u001b[0;34m\u001b[0m\u001b[0;34m\u001b[0m\u001b[0m\n\u001b[0m",
      "\u001b[0;31mNameError\u001b[0m: name 'a' is not defined"
     ]
    }
   ],
   "source": [
    "import gc\n",
    "\n",
    "show_memory_info('initial')\n",
    "\n",
    "a = [i for i in range(10000000)]\n",
    "\n",
    "show_memory_info('after a created')\n",
    "\n",
    "del a\n",
    "gc.collect()\n",
    "\n",
    "show_memory_info('finish')\n",
    "print(a)\n"
   ]
  },
  {
   "source": [
    "引用次数为 0 是垃圾回收启动的充要条件吗？还有没有其他可能性呢？\n",
    "\n",
    "充分非必要条件。\n",
    "\n",
    "## 循环引用\n",
    "\n",
    "如果有两个对象，它们互相引用，并且不再被别的对象所引用，那么它们应该被垃圾回收吗？\n"
   ],
   "cell_type": "markdown",
   "metadata": {}
  },
  {
   "cell_type": "code",
   "execution_count": 18,
   "metadata": {},
   "outputs": [
    {
     "output_type": "stream",
     "name": "stdout",
     "text": [
      "initial memory used: 827.83984375 MB\n",
      "after a, b created memory used: 959.234375 MB\n",
      "finished memory used: 959.234375 MB\n"
     ]
    }
   ],
   "source": [
    "def func():\n",
    "    show_memory_info('initial')\n",
    "    a = [i for i in range(10000000)]\n",
    "    b = [i for i in range(10000000)]\n",
    "    show_memory_info('after a, b created')\n",
    "    a.append(b)\n",
    "    b.append(a)\n",
    "\n",
    "func()\n",
    "# gc.collect()\n",
    "show_memory_info('finished')"
   ]
  },
  {
   "source": [
    "这里，a 和 b 互相引用，并且，作为局部变量，在函数 func 调用结束后，a 和 b 这两个指针从程序意义上已经不存在了。但是，很明显，依然有内存占用！为什么呢？因为互相引用，导致它们的引用数都不为 0。\n",
    "\n",
    "如果这段代码出现在生产环境中，哪怕 a 和 b 一开始占用的空间不是很大，但经过长时间运行后，Python 所占用的内存一定会变得越来越大，最终 OOM 。\n",
    "\n",
    "Python 本身是可以处理这个问题的，把上面的 `gc.collect()` 注释去掉看看。\n",
    "\n",
    "Python 使用标记清除（mark-sweep）算法和分代收集（generational），来启用针对循环引用的自动垃圾回收。\n",
    "\n",
    "- 标记清除算法\n",
    "   \n",
    "   我们先用图论来理解不可达的概念。对于一个有向图，如果从一个节点出发进行遍历，并标记其经过的所有节点；那么，在遍历结束后，所有没有被标记的节点，我们就称之为不可达节点。这些节点的存在已经没有任何意义了，我们就需要对它们进行垃圾回收。\n",
    "   \n",
    "   每次都遍历全图，对于 Python 而言是一种巨大的性能浪费。所以，在 Python 的垃圾回收实现中，mark-sweep 使用双向链表维护了一个数据结构，并且只考虑容器类的对象（只有容器类对象才有可能产生循环引用）。\n",
    "\n",
    "- 分代收集算法，则是另一个优化手段。\n",
    "\n",
    "   Python 将所有对象分为三代。刚刚创立的对象是第 0 代；经过一次垃圾回收后，依然存在的对象，便会依次从上一代挪到下一代。而每一代启动自动垃圾回收的阈值，则是可以单独指定的。当垃圾回收器中新增对象减去删除对象达到相应的阈值时，就会对这一代对象启动垃圾回收。\n",
    "\n",
    "   分代收集基于的思想是，新生的对象更有可能被垃圾回收，而存活更久的对象也有更高的概率继续存活。因此，通过这种做法，可以节约不少计算量，从而提高 Python 的性能。\n",
    "\n",
    "\n",
    "## 调试内存泄漏\n",
    "\n",
    "objgraph\n",
    "  \n",
    "可视化引用关系的包。在这个包中，我主要推荐两个函数，\n",
    "  \n",
    "- show_refs()，它可以生成清晰的引用关系图。通过下面这段代码和生成的引用调用图，你能非常直观地发现，有两个 list 互相引用，说明这里极有可能引起内存泄露。这样一来，再去代码层排查就容易多了。\n"
   ],
   "cell_type": "markdown",
   "metadata": {}
  },
  {
   "cell_type": "code",
   "execution_count": 20,
   "metadata": {},
   "outputs": [
    {
     "output_type": "execute_result",
     "data": {
      "text/plain": [
       "<graphviz.files.Source at 0x7ff8ab00b490>"
      ],
      "image/svg+xml": "<?xml version=\"1.0\" encoding=\"UTF-8\" standalone=\"no\"?>\n<!DOCTYPE svg PUBLIC \"-//W3C//DTD SVG 1.1//EN\"\n \"http://www.w3.org/Graphics/SVG/1.1/DTD/svg11.dtd\">\n<!-- Generated by graphviz version 2.42.3 (20191010.1750)\n -->\n<!-- Title: ObjectGraph Pages: 1 -->\n<svg width=\"351pt\" height=\"188pt\"\n viewBox=\"0.00 0.00 351.00 188.00\" xmlns=\"http://www.w3.org/2000/svg\" xmlns:xlink=\"http://www.w3.org/1999/xlink\">\n<g id=\"graph0\" class=\"graph\" transform=\"scale(1 1) rotate(0) translate(4 184)\">\n<title>ObjectGraph</title>\n<polygon fill=\"white\" stroke=\"transparent\" points=\"-4,4 -4,-184 347,-184 347,4 -4,4\"/>\n<!-- o140705986466912 -->\n<g id=\"node1\" class=\"node\">\n<title>o140705986466912</title>\n<polygon fill=\"#ffffff\" stroke=\"black\" points=\"200.33,-180 143.67,-180 143.67,-144 200.33,-144 200.33,-180\"/>\n<text text-anchor=\"middle\" x=\"172\" y=\"-164.8\" font-family=\"Times,serif\" font-size=\"14.00\" fill=\"red\">list</text>\n<text text-anchor=\"middle\" x=\"172\" y=\"-150.8\" font-family=\"Times,serif\" font-size=\"14.00\" fill=\"red\">4 items</text>\n</g>\n<!-- o140705986349648 -->\n<g id=\"node2\" class=\"node\">\n<title>o140705986349648</title>\n<polygon fill=\"#c3c3c3\" stroke=\"black\" points=\"127.33,-108 70.67,-108 70.67,-72 127.33,-72 127.33,-108\"/>\n<text text-anchor=\"middle\" x=\"99\" y=\"-92.8\" font-family=\"Times,serif\" font-size=\"14.00\">list</text>\n<text text-anchor=\"middle\" x=\"99\" y=\"-78.8\" font-family=\"Times,serif\" font-size=\"14.00\">4 items</text>\n</g>\n<!-- o140705986466912&#45;&gt;o140705986349648 -->\n<g id=\"edge1\" class=\"edge\">\n<title>o140705986466912&#45;&gt;o140705986349648</title>\n<path fill=\"none\" stroke=\"black\" d=\"M148.04,-143.7C138.23,-135.14 127.12,-124.66 117.88,-115.3\"/>\n<polygon fill=\"black\" stroke=\"black\" points=\"120.4,-112.87 110.94,-108.1 115.36,-117.73 120.4,-112.87\"/>\n</g>\n<!-- o4396569328 -->\n<g id=\"node3\" class=\"node\">\n<title>o4396569328</title>\n<polygon fill=\"#c3c3c3\" stroke=\"black\" points=\"199,-108 145,-108 145,-72 199,-72 199,-108\"/>\n<text text-anchor=\"middle\" x=\"172\" y=\"-92.8\" font-family=\"Times,serif\" font-size=\"14.00\">int</text>\n<text text-anchor=\"middle\" x=\"172\" y=\"-78.8\" font-family=\"Times,serif\" font-size=\"14.00\">3</text>\n</g>\n<!-- o140705986466912&#45;&gt;o4396569328 -->\n<g id=\"edge2\" class=\"edge\">\n<title>o140705986466912&#45;&gt;o4396569328</title>\n<path fill=\"none\" stroke=\"black\" d=\"M172,-143.7C172,-135.98 172,-126.71 172,-118.11\"/>\n<polygon fill=\"black\" stroke=\"black\" points=\"175.5,-118.1 172,-108.1 168.5,-118.1 175.5,-118.1\"/>\n</g>\n<!-- o4396569296 -->\n<g id=\"node4\" class=\"node\">\n<title>o4396569296</title>\n<polygon fill=\"#c3c3c3\" stroke=\"black\" points=\"271,-108 217,-108 217,-72 271,-72 271,-108\"/>\n<text text-anchor=\"middle\" x=\"244\" y=\"-92.8\" font-family=\"Times,serif\" font-size=\"14.00\">int</text>\n<text text-anchor=\"middle\" x=\"244\" y=\"-78.8\" font-family=\"Times,serif\" font-size=\"14.00\">2</text>\n</g>\n<!-- o140705986466912&#45;&gt;o4396569296 -->\n<g id=\"edge3\" class=\"edge\">\n<title>o140705986466912&#45;&gt;o4396569296</title>\n<path fill=\"none\" stroke=\"black\" d=\"M189.8,-143.7C198.6,-135.14 209.38,-124.66 219,-115.3\"/>\n<polygon fill=\"black\" stroke=\"black\" points=\"221.68,-117.58 226.41,-108.1 216.8,-112.57 221.68,-117.58\"/>\n</g>\n<!-- o4396569264 -->\n<g id=\"node5\" class=\"node\">\n<title>o4396569264</title>\n<polygon fill=\"#c3c3c3\" stroke=\"black\" points=\"343,-108 289,-108 289,-72 343,-72 343,-108\"/>\n<text text-anchor=\"middle\" x=\"316\" y=\"-92.8\" font-family=\"Times,serif\" font-size=\"14.00\">int</text>\n<text text-anchor=\"middle\" x=\"316\" y=\"-78.8\" font-family=\"Times,serif\" font-size=\"14.00\">1</text>\n</g>\n<!-- o140705986466912&#45;&gt;o4396569264 -->\n<g id=\"edge4\" class=\"edge\">\n<title>o140705986466912&#45;&gt;o4396569264</title>\n<path fill=\"none\" stroke=\"black\" d=\"M200.45,-147.17C223.13,-136.15 255.03,-120.64 279.58,-108.71\"/>\n<polygon fill=\"black\" stroke=\"black\" points=\"281.12,-111.85 288.59,-104.33 278.06,-105.55 281.12,-111.85\"/>\n</g>\n<!-- o140705986349648&#45;&gt;o140705986466912 -->\n<g id=\"edge5\" class=\"edge\">\n<title>o140705986349648&#45;&gt;o140705986466912</title>\n<path fill=\"none\" stroke=\"black\" d=\"M122.73,-108.1C132.52,-116.64 143.64,-127.11 152.9,-136.48\"/>\n<polygon fill=\"black\" stroke=\"black\" points=\"150.41,-138.93 159.87,-143.7 155.44,-134.07 150.41,-138.93\"/>\n</g>\n<!-- o4396569424 -->\n<g id=\"node6\" class=\"node\">\n<title>o4396569424</title>\n<polygon fill=\"#878787\" stroke=\"black\" points=\"54,-36 0,-36 0,0 54,0 54,-36\"/>\n<text text-anchor=\"middle\" x=\"27\" y=\"-20.8\" font-family=\"Times,serif\" font-size=\"14.00\">int</text>\n<text text-anchor=\"middle\" x=\"27\" y=\"-6.8\" font-family=\"Times,serif\" font-size=\"14.00\">6</text>\n</g>\n<!-- o140705986349648&#45;&gt;o4396569424 -->\n<g id=\"edge6\" class=\"edge\">\n<title>o140705986349648&#45;&gt;o4396569424</title>\n<path fill=\"none\" stroke=\"black\" d=\"M81.2,-71.7C72.4,-63.14 61.62,-52.66 52,-43.3\"/>\n<polygon fill=\"black\" stroke=\"black\" points=\"54.2,-40.57 44.59,-36.1 49.32,-45.58 54.2,-40.57\"/>\n</g>\n<!-- o4396569392 -->\n<g id=\"node7\" class=\"node\">\n<title>o4396569392</title>\n<polygon fill=\"#878787\" stroke=\"black\" points=\"126,-36 72,-36 72,0 126,0 126,-36\"/>\n<text text-anchor=\"middle\" x=\"99\" y=\"-20.8\" font-family=\"Times,serif\" font-size=\"14.00\">int</text>\n<text text-anchor=\"middle\" x=\"99\" y=\"-6.8\" font-family=\"Times,serif\" font-size=\"14.00\">5</text>\n</g>\n<!-- o140705986349648&#45;&gt;o4396569392 -->\n<g id=\"edge7\" class=\"edge\">\n<title>o140705986349648&#45;&gt;o4396569392</title>\n<path fill=\"none\" stroke=\"black\" d=\"M99,-71.7C99,-63.98 99,-54.71 99,-46.11\"/>\n<polygon fill=\"black\" stroke=\"black\" points=\"102.5,-46.1 99,-36.1 95.5,-46.1 102.5,-46.1\"/>\n</g>\n<!-- o4396569360 -->\n<g id=\"node8\" class=\"node\">\n<title>o4396569360</title>\n<polygon fill=\"#878787\" stroke=\"black\" points=\"198,-36 144,-36 144,0 198,0 198,-36\"/>\n<text text-anchor=\"middle\" x=\"171\" y=\"-20.8\" font-family=\"Times,serif\" font-size=\"14.00\">int</text>\n<text text-anchor=\"middle\" x=\"171\" y=\"-6.8\" font-family=\"Times,serif\" font-size=\"14.00\">4</text>\n</g>\n<!-- o140705986349648&#45;&gt;o4396569360 -->\n<g id=\"edge8\" class=\"edge\">\n<title>o140705986349648&#45;&gt;o4396569360</title>\n<path fill=\"none\" stroke=\"black\" d=\"M116.8,-71.7C125.6,-63.14 136.38,-52.66 146,-43.3\"/>\n<polygon fill=\"black\" stroke=\"black\" points=\"148.68,-45.58 153.41,-36.1 143.8,-40.57 148.68,-45.58\"/>\n</g>\n</g>\n</svg>\n"
     },
     "metadata": {},
     "execution_count": 20
    }
   ],
   "source": [
    "import objgraph\n",
    "\n",
    "a = [1, 2, 3]\n",
    "b = [4, 5, 6]\n",
    "\n",
    "a.append(b)\n",
    "b.append(a)\n",
    "\n",
    "objgraph.show_refs([a])"
   ]
  },
  {
   "source": [
    "- show_backrefs()\n",
    "\n",
    "   这个 API 有很多有用的参数，比如层数限制（max_depth）、宽度限制（too_many）、输出格式控制（filename output）、节点过滤（filter, extra_ignore）等。[文档](https://mg.pov.lt/objgraph/)"
   ],
   "cell_type": "markdown",
   "metadata": {}
  },
  {
   "cell_type": "code",
   "execution_count": 21,
   "metadata": {},
   "outputs": [
    {
     "output_type": "execute_result",
     "data": {
      "text/plain": [
       "<graphviz.files.Source at 0x7ff8ab00b150>"
      ],
      "image/svg+xml": "<?xml version=\"1.0\" encoding=\"UTF-8\" standalone=\"no\"?>\n<!DOCTYPE svg PUBLIC \"-//W3C//DTD SVG 1.1//EN\"\n \"http://www.w3.org/Graphics/SVG/1.1/DTD/svg11.dtd\">\n<!-- Generated by graphviz version 2.42.3 (20191010.1750)\n -->\n<!-- Title: ObjectGraph Pages: 1 -->\n<svg width=\"786pt\" height=\"461pt\"\n viewBox=\"0.00 0.00 786.28 461.00\" xmlns=\"http://www.w3.org/2000/svg\" xmlns:xlink=\"http://www.w3.org/1999/xlink\">\n<g id=\"graph0\" class=\"graph\" transform=\"scale(1 1) rotate(0) translate(4 457)\">\n<title>ObjectGraph</title>\n<polygon fill=\"white\" stroke=\"transparent\" points=\"-4,4 -4,-457 782.28,-457 782.28,4 -4,4\"/>\n<!-- o140705421558080 -->\n<g id=\"node1\" class=\"node\">\n<title>o140705421558080</title>\n<polygon fill=\"#ffffff\" stroke=\"black\" points=\"56.75,-109 0.08,-109 0.08,-73 56.75,-73 56.75,-109\"/>\n<text text-anchor=\"middle\" x=\"28.42\" y=\"-93.8\" font-family=\"Times,serif\" font-size=\"14.00\" fill=\"red\">list</text>\n<text text-anchor=\"middle\" x=\"28.42\" y=\"-79.8\" font-family=\"Times,serif\" font-size=\"14.00\" fill=\"red\">4 items</text>\n</g>\n<!-- o140705985766336 -->\n<g id=\"node3\" class=\"node\">\n<title>o140705985766336</title>\n<polygon fill=\"#c3c3c3\" stroke=\"black\" points=\"88.75,-36 32.08,-36 32.08,0 88.75,0 88.75,-36\"/>\n<text text-anchor=\"middle\" x=\"60.42\" y=\"-20.8\" font-family=\"Times,serif\" font-size=\"14.00\">list</text>\n<text text-anchor=\"middle\" x=\"60.42\" y=\"-6.8\" font-family=\"Times,serif\" font-size=\"14.00\">4 items</text>\n</g>\n<!-- o140705421558080&#45;&gt;o140705985766336 -->\n<g id=\"edge11\" class=\"edge\">\n<title>o140705421558080&#45;&gt;o140705985766336</title>\n<path fill=\"none\" stroke=\"black\" d=\"M30.28,-72.81C33.18,-64.44 37.58,-54.2 42.22,-44.9\"/>\n<polygon fill=\"black\" stroke=\"black\" points=\"45.32,-46.51 46.88,-36.03 39.13,-43.25 45.32,-46.51\"/>\n</g>\n<!-- o140704607905664 -->\n<g id=\"node2\" class=\"node\">\n<title>o140704607905664</title>\n<polygon fill=\"#c3c3c3\" stroke=\"black\" points=\"346.25,-195 282.58,-195 282.58,-159 346.25,-159 346.25,-195\"/>\n<text text-anchor=\"middle\" x=\"314.42\" y=\"-179.8\" font-family=\"Times,serif\" font-size=\"14.00\">dict</text>\n<text text-anchor=\"middle\" x=\"314.42\" y=\"-165.8\" font-family=\"Times,serif\" font-size=\"14.00\">58 items</text>\n</g>\n<!-- o140704607905664&#45;&gt;o140705421558080 -->\n<g id=\"edge1\" class=\"edge\">\n<title>o140704607905664&#45;&gt;o140705421558080</title>\n<path fill=\"none\" stroke=\"black\" d=\"M282.41,-174.09C225.19,-170.23 107.95,-160.19 72.2,-141 61.73,-135.38 52.54,-126.23 45.31,-117.34\"/>\n<polygon fill=\"black\" stroke=\"black\" points=\"48.09,-115.21 39.25,-109.37 42.51,-119.45 48.09,-115.21\"/>\n<text text-anchor=\"middle\" x=\"75.52\" y=\"-129.8\" font-family=\"Times,serif\" font-size=\"14.00\">a</text>\n</g>\n<!-- o140704607905664&#45;&gt;o140705985766336 -->\n<g id=\"edge10\" class=\"edge\">\n<title>o140704607905664&#45;&gt;o140705985766336</title>\n<path fill=\"none\" stroke=\"black\" d=\"M282.56,-174.98C236.22,-171.76 150.44,-158.92 101.42,-109 84.28,-91.55 73.52,-65.67 67.35,-46.13\"/>\n<polygon fill=\"black\" stroke=\"black\" points=\"70.64,-44.9 64.45,-36.3 63.92,-46.88 70.64,-44.9\"/>\n<text text-anchor=\"middle\" x=\"104.92\" y=\"-86.8\" font-family=\"Times,serif\" font-size=\"14.00\">b</text>\n</g>\n<!-- o140705421795056 -->\n<g id=\"node8\" class=\"node\">\n<title>o140705421795056</title>\n<polygon fill=\"#878787\" stroke=\"black\" points=\"383.29,-109 117.54,-109 117.54,-73 383.29,-73 383.29,-109\"/>\n<text text-anchor=\"middle\" x=\"250.42\" y=\"-93.8\" font-family=\"Times,serif\" font-size=\"14.00\">function</text>\n<text text-anchor=\"middle\" x=\"250.42\" y=\"-79.8\" font-family=\"Times,serif\" font-size=\"14.00\">&lt;function show_memory_info at 0x7ff888af</text>\n</g>\n<!-- o140704607905664&#45;&gt;o140705421795056 -->\n<g id=\"edge15\" class=\"edge\">\n<title>o140704607905664&#45;&gt;o140705421795056</title>\n<path fill=\"none\" stroke=\"black\" d=\"M282.35,-172.44C245.56,-167.63 188.63,-157.66 175.65,-141 167.44,-130.46 173.21,-121.47 184.48,-114.17\"/>\n<polygon fill=\"black\" stroke=\"black\" points=\"186.48,-117.06 193.54,-109.16 183.1,-110.94 186.48,-117.06\"/>\n<text text-anchor=\"middle\" x=\"232.8\" y=\"-129.8\" font-family=\"Times,serif\" font-size=\"14.00\">show_memory_info</text>\n</g>\n<!-- o140705998778096 -->\n<g id=\"node9\" class=\"node\">\n<title>o140705998778096</title>\n<polygon fill=\"#878787\" stroke=\"black\" points=\"614.01,-109 400.82,-109 400.82,-73 614.01,-73 614.01,-109\"/>\n<text text-anchor=\"middle\" x=\"507.42\" y=\"-93.8\" font-family=\"Times,serif\" font-size=\"14.00\">function</text>\n<text text-anchor=\"middle\" x=\"507.42\" y=\"-79.8\" font-family=\"Times,serif\" font-size=\"14.00\">&lt;function func at 0x7ff8ab132ef0&gt;</text>\n</g>\n<!-- o140704607905664&#45;&gt;o140705998778096 -->\n<g id=\"edge16\" class=\"edge\">\n<title>o140704607905664&#45;&gt;o140705998778096</title>\n<path fill=\"none\" stroke=\"black\" d=\"M346.29,-162.13C376.82,-148.84 423.33,-128.6 458.55,-113.27\"/>\n<polygon fill=\"black\" stroke=\"black\" points=\"460.38,-116.29 468.16,-109.09 457.59,-109.87 460.38,-116.29\"/>\n<text text-anchor=\"middle\" x=\"435.85\" y=\"-129.8\" font-family=\"Times,serif\" font-size=\"14.00\">func</text>\n</g>\n<!-- o140705985766336&#45;&gt;o140705421558080 -->\n<g id=\"edge2\" class=\"edge\">\n<title>o140705985766336&#45;&gt;o140705421558080</title>\n<path fill=\"none\" stroke=\"black\" d=\"M58.6,-36.03C55.72,-44.38 51.33,-54.61 46.7,-63.92\"/>\n<polygon fill=\"black\" stroke=\"black\" points=\"43.59,-62.33 42.04,-72.81 49.78,-65.58 43.59,-62.33\"/>\n</g>\n<!-- o140704607898032 -->\n<g id=\"node4\" class=\"node\">\n<title>o140704607898032</title>\n<polygon fill=\"#878787\" stroke=\"black\" points=\"214.25,-367 150.58,-367 150.58,-331 214.25,-331 214.25,-367\"/>\n<text text-anchor=\"middle\" x=\"182.42\" y=\"-351.8\" font-family=\"Times,serif\" font-size=\"14.00\">dict</text>\n<text text-anchor=\"middle\" x=\"182.42\" y=\"-337.8\" font-family=\"Times,serif\" font-size=\"14.00\">46 items</text>\n</g>\n<!-- o140704607898032&#45;&gt;o140704607905664 -->\n<g id=\"edge3\" class=\"edge\">\n<title>o140704607898032&#45;&gt;o140704607905664</title>\n<path fill=\"none\" stroke=\"black\" d=\"M168.33,-330.66C152.61,-309.07 131.62,-271.78 149.64,-245 176.86,-204.55 233.18,-188.51 272.36,-182.15\"/>\n<polygon fill=\"black\" stroke=\"black\" points=\"273.03,-185.59 282.41,-180.67 272.01,-178.67 273.03,-185.59\"/>\n<text text-anchor=\"middle\" x=\"171.8\" y=\"-258.8\" font-family=\"Times,serif\" font-size=\"14.00\">user_ns</text>\n</g>\n<!-- o140704607928800 -->\n<g id=\"node6\" class=\"node\">\n<title>o140704607928800</title>\n<polygon fill=\"#878787\" stroke=\"black\" points=\"257.75,-281 201.08,-281 201.08,-245 257.75,-245 257.75,-281\"/>\n<text text-anchor=\"middle\" x=\"229.42\" y=\"-265.8\" font-family=\"Times,serif\" font-size=\"14.00\">dict</text>\n<text text-anchor=\"middle\" x=\"229.42\" y=\"-251.8\" font-family=\"Times,serif\" font-size=\"14.00\">3 items</text>\n</g>\n<!-- o140704607898032&#45;&gt;o140704607928800 -->\n<g id=\"edge13\" class=\"edge\">\n<title>o140704607898032&#45;&gt;o140704607928800</title>\n<path fill=\"none\" stroke=\"black\" d=\"M192.15,-330.6C198.69,-318.92 207.41,-303.32 214.78,-290.16\"/>\n<polygon fill=\"black\" stroke=\"black\" points=\"218.02,-291.53 219.85,-281.1 211.91,-288.11 218.02,-291.53\"/>\n<text text-anchor=\"middle\" x=\"232.74\" y=\"-301.8\" font-family=\"Times,serif\" font-size=\"14.00\">ns_table</text>\n</g>\n<!-- o140705412173904 -->\n<g id=\"node5\" class=\"node\">\n<title>o140705412173904</title>\n<polygon fill=\"#1b8700\" stroke=\"black\" points=\"350.41,-281 278.42,-281 278.42,-245 350.41,-245 350.41,-281\"/>\n<text text-anchor=\"middle\" x=\"314.42\" y=\"-265.8\" font-family=\"Times,serif\" font-size=\"14.00\">module</text>\n<text text-anchor=\"middle\" x=\"314.42\" y=\"-251.8\" font-family=\"Times,serif\" font-size=\"14.00\">__main__</text>\n</g>\n<!-- o140705412173904&#45;&gt;o140704607905664 -->\n<g id=\"edge4\" class=\"edge\">\n<title>o140705412173904&#45;&gt;o140704607905664</title>\n<path fill=\"none\" stroke=\"black\" d=\"M314.42,-244.6C314.42,-233.26 314.42,-218.23 314.42,-205.32\"/>\n<polygon fill=\"black\" stroke=\"black\" points=\"317.92,-205.1 314.42,-195.1 310.92,-205.1 317.92,-205.1\"/>\n<text text-anchor=\"middle\" x=\"338.91\" y=\"-215.8\" font-family=\"Times,serif\" font-size=\"14.00\">__dict__</text>\n</g>\n<!-- o140704607928800&#45;&gt;o140704607905664 -->\n<g id=\"edge5\" class=\"edge\">\n<title>o140704607928800&#45;&gt;o140704607905664</title>\n<path fill=\"none\" stroke=\"black\" d=\"M231.5,-244.96C233.51,-234.72 237.44,-221.97 245.1,-213 252.54,-204.29 262.67,-197.5 272.9,-192.32\"/>\n<polygon fill=\"black\" stroke=\"black\" points=\"274.63,-195.38 282.24,-188.01 271.7,-189.02 274.63,-195.38\"/>\n<text text-anchor=\"middle\" x=\"278.07\" y=\"-215.8\" font-family=\"Times,serif\" font-size=\"14.00\">user_global</text>\n</g>\n<!-- o140704607862944 -->\n<g id=\"node7\" class=\"node\">\n<title>o140704607862944</title>\n<polygon fill=\"#878787\" stroke=\"black\" points=\"432.25,-281 368.58,-281 368.58,-245 432.25,-245 432.25,-281\"/>\n<text text-anchor=\"middle\" x=\"400.42\" y=\"-265.8\" font-family=\"Times,serif\" font-size=\"14.00\">dict</text>\n<text text-anchor=\"middle\" x=\"400.42\" y=\"-251.8\" font-family=\"Times,serif\" font-size=\"14.00\">24 items</text>\n</g>\n<!-- o140704607862944&#45;&gt;o140704607905664 -->\n<g id=\"edge6\" class=\"edge\">\n<title>o140704607862944&#45;&gt;o140704607905664</title>\n<path fill=\"none\" stroke=\"black\" d=\"M391.18,-244.89C385.25,-234.87 376.89,-222.39 367.42,-213 363.15,-208.77 358.3,-204.76 353.31,-201.06\"/>\n<polygon fill=\"black\" stroke=\"black\" points=\"355.06,-198.01 344.86,-195.16 351.05,-203.75 355.06,-198.01\"/>\n<text text-anchor=\"middle\" x=\"410.12\" y=\"-215.8\" font-family=\"Times,serif\" font-size=\"14.00\">namespace</text>\n</g>\n<!-- o140705421795056&#45;&gt;o140704607905664 -->\n<g id=\"edge7\" class=\"edge\">\n<title>o140705421795056&#45;&gt;o140704607905664</title>\n<path fill=\"none\" stroke=\"black\" d=\"M274.85,-109.2C281.12,-114.41 287.48,-120.5 292.42,-127 297.49,-133.69 301.71,-141.73 305.06,-149.34\"/>\n<polygon fill=\"black\" stroke=\"black\" points=\"301.82,-150.68 308.83,-158.63 308.31,-148.05 301.82,-150.68\"/>\n<text text-anchor=\"middle\" x=\"335.64\" y=\"-129.8\" font-family=\"Times,serif\" font-size=\"14.00\">__globals__</text>\n</g>\n<!-- o140705998778096&#45;&gt;o140704607905664 -->\n<g id=\"edge8\" class=\"edge\">\n<title>o140705998778096&#45;&gt;o140704607905664</title>\n<path fill=\"none\" stroke=\"black\" d=\"M495.25,-109.44C486.91,-120.1 474.94,-133.16 461.42,-141 429.1,-159.74 387.25,-168.46 356.47,-172.51\"/>\n<polygon fill=\"black\" stroke=\"black\" points=\"356,-169.04 346.49,-173.71 356.83,-175.99 356,-169.04\"/>\n<text text-anchor=\"middle\" x=\"513.64\" y=\"-129.8\" font-family=\"Times,serif\" font-size=\"14.00\">__globals__</text>\n</g>\n<!-- o140704274080256 -->\n<g id=\"node10\" class=\"node\">\n<title>o140704274080256</title>\n<polygon fill=\"#878787\" stroke=\"black\" points=\"674.57,-281 450.26,-281 450.26,-245 674.57,-245 674.57,-281\"/>\n<text text-anchor=\"middle\" x=\"562.42\" y=\"-265.8\" font-family=\"Times,serif\" font-size=\"14.00\">frame</text>\n<text text-anchor=\"middle\" x=\"562.42\" y=\"-251.8\" font-family=\"Times,serif\" font-size=\"14.00\">&lt;ipython&#45;input&#45;19&#45;0470adb121e0&gt;:1</text>\n</g>\n<!-- o140704274080256&#45;&gt;o140704607905664 -->\n<g id=\"edge9\" class=\"edge\">\n<title>o140704274080256&#45;&gt;o140704607905664</title>\n<path fill=\"none\" stroke=\"black\" d=\"M524.9,-244.95C501.95,-234.88 471.82,-222.33 444.42,-213 415.31,-203.09 381.8,-194.12 356.08,-187.75\"/>\n<polygon fill=\"black\" stroke=\"black\" points=\"356.83,-184.32 346.29,-185.35 355.17,-191.12 356.83,-184.32\"/>\n<text text-anchor=\"middle\" x=\"503.57\" y=\"-215.8\" font-family=\"Times,serif\" font-size=\"14.00\">f_locals</text>\n</g>\n<!-- o140705419320400 -->\n<g id=\"node11\" class=\"node\">\n<title>o140705419320400</title>\n<polygon fill=\"#4c4c4c\" stroke=\"black\" points=\"310.96,-453 53.87,-453 53.87,-417 310.96,-417 310.96,-453\"/>\n<text text-anchor=\"middle\" x=\"182.42\" y=\"-437.8\" font-family=\"Times,serif\" font-size=\"14.00\" fill=\"white\">ZMQInteractiveShell</text>\n<text text-anchor=\"middle\" x=\"182.42\" y=\"-423.8\" font-family=\"Times,serif\" font-size=\"14.00\" fill=\"white\">&lt;ipykernel.zmqshell.ZMQInteractiveShell </text>\n</g>\n<!-- o140705419320400&#45;&gt;o140704607898032 -->\n<g id=\"edge12\" class=\"edge\">\n<title>o140705419320400&#45;&gt;o140704607898032</title>\n<path fill=\"none\" stroke=\"black\" d=\"M182.42,-416.6C182.42,-405.26 182.42,-390.23 182.42,-377.32\"/>\n<polygon fill=\"black\" stroke=\"black\" points=\"185.92,-377.1 182.42,-367.1 178.92,-377.1 185.92,-377.1\"/>\n<text text-anchor=\"middle\" x=\"206.91\" y=\"-387.8\" font-family=\"Times,serif\" font-size=\"14.00\">__dict__</text>\n</g>\n<!-- o140704607960336 -->\n<g id=\"node12\" class=\"node\">\n<title>o140704607960336</title>\n<polygon fill=\"#4c4c4c\" stroke=\"black\" points=\"529.09,-367 271.74,-367 271.74,-331 529.09,-331 529.09,-367\"/>\n<text text-anchor=\"middle\" x=\"400.42\" y=\"-351.8\" font-family=\"Times,serif\" font-size=\"14.00\" fill=\"white\">IPCompleter</text>\n<text text-anchor=\"middle\" x=\"400.42\" y=\"-337.8\" font-family=\"Times,serif\" font-size=\"14.00\" fill=\"white\">&lt;IPython.core.completer.IPCompleter obje</text>\n</g>\n<!-- o140704607960336&#45;&gt;o140704607862944 -->\n<g id=\"edge14\" class=\"edge\">\n<title>o140704607960336&#45;&gt;o140704607862944</title>\n<path fill=\"none\" stroke=\"black\" d=\"M400.42,-330.6C400.42,-319.26 400.42,-304.23 400.42,-291.32\"/>\n<polygon fill=\"black\" stroke=\"black\" points=\"403.92,-291.1 400.42,-281.1 396.92,-291.1 403.92,-291.1\"/>\n<text text-anchor=\"middle\" x=\"424.91\" y=\"-301.8\" font-family=\"Times,serif\" font-size=\"14.00\">__dict__</text>\n</g>\n<!-- o140705987148208 -->\n<g id=\"node13\" class=\"node\">\n<title>o140705987148208</title>\n<polygon fill=\"#4c4c4c\" stroke=\"black\" points=\"778.14,-367 546.69,-367 546.69,-331 778.14,-331 778.14,-367\"/>\n<text text-anchor=\"middle\" x=\"662.42\" y=\"-351.8\" font-family=\"Times,serif\" font-size=\"14.00\" fill=\"white\">traceback</text>\n<text text-anchor=\"middle\" x=\"662.42\" y=\"-337.8\" font-family=\"Times,serif\" font-size=\"14.00\" fill=\"white\">&lt;traceback object at 0x7ff8aa61b9b0&gt;</text>\n</g>\n<!-- o140705987148208&#45;&gt;o140704274080256 -->\n<g id=\"edge17\" class=\"edge\">\n<title>o140705987148208&#45;&gt;o140704274080256</title>\n<path fill=\"none\" stroke=\"black\" d=\"M641.7,-330.6C626.98,-318.24 607.05,-301.49 590.85,-287.88\"/>\n<polygon fill=\"black\" stroke=\"black\" points=\"592.68,-284.85 582.77,-281.1 588.17,-290.21 592.68,-284.85\"/>\n</g>\n</g>\n</svg>\n"
     },
     "metadata": {},
     "execution_count": 21
    }
   ],
   "source": [
    "import objgraph\n",
    "\n",
    "a = [1, 2, 3]\n",
    "b = [4, 5, 6]\n",
    "\n",
    "a.append(b)\n",
    "b.append(a)\n",
    "\n",
    "objgraph.show_backrefs([a])"
   ]
  },
  {
   "source": [
    "## 总结\n",
    "\n",
    "- 垃圾回收是 Python 自带的机制，用于自动释放不会再用到的内存空间；\n",
    "- 引用计数是其中最简单的实现，不过切记，这只是充分非必要条件，因为循环引用需要通过不可达判定，来确定是否可以回收；\n",
    "- Python 的自动回收算法包括标记清除和分代收集，主要针对的是循环引用的垃圾收集；\n",
    "- 调试内存泄漏方面， objgraph 是很好的可视化分析工具。\n",
    "\n",
    "## 思考题\n",
    "\n",
    "实现一个垃圾回收判定算法呢？要求很简单，输入是一个有向图，给定起点，表示程序入口点；给定有向边，输出不可达节点。\n",
    "\n",
    "TBD"
   ],
   "cell_type": "markdown",
   "metadata": {}
  }
 ]
}