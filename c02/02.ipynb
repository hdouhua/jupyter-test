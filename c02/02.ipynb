{
 "metadata": {
  "language_info": {
   "codemirror_mode": {
    "name": "ipython",
    "version": 3
   },
   "file_extension": ".py",
   "mimetype": "text/x-python",
   "name": "python",
   "nbconvert_exporter": "python",
   "pygments_lexer": "ipython3",
   "version": "3.7.7-final"
  },
  "orig_nbformat": 2,
  "kernelspec": {
   "name": "python3",
   "display_name": "Python 3"
  }
 },
 "nbformat": 4,
 "nbformat_minor": 2,
 "cells": [
  {
   "source": [
    "# 值传递 vs 引用传递\n",
    "\n"
   ],
   "cell_type": "markdown",
   "metadata": {}
  },
  {
   "source": [
    ">Python 里所有的数据类型都是对象，所以参数传递时，只是让新变量与原变量指向相同的对象而已，并不存在值传递或是引用传递一说。\n",
    "\n",
    "## 变量及其赋值\n"
   ],
   "cell_type": "markdown",
   "metadata": {}
  },
  {
   "cell_type": "code",
   "execution_count": 1,
   "metadata": {},
   "outputs": [
    {
     "output_type": "stream",
     "name": "stdout",
     "text": [
      "2\n1\n"
     ]
    }
   ],
   "source": [
    "a = 1\n",
    "b = a\n",
    "a = a + 1\n",
    "print(a)\n",
    "print(b)"
   ]
  },
  {
   "source": [
    "这个过程是怎样的呢 ？\n",
    "\n",
    "- 首先将 1 赋值于 a，即 a 指向了 1 这个对象\n",
    "- 接着 b = a 则表示，让变量 b 也同时指向 1 这个对象。多个变量指向同一个对象。\n",
    "- 最后执行 a = a + 1。因为 Python 的数据类型，例如整型（int）、字符串（string）等等，是不可变的。此处，重新创建了一个新的值为 2 的对象，并让 a 指向它。但是 b 仍然不变，仍然指向 1 这个对象。\n"
   ],
   "cell_type": "markdown",
   "metadata": {}
  },
  {
   "cell_type": "code",
   "execution_count": 3,
   "metadata": {},
   "outputs": [
    {
     "output_type": "stream",
     "name": "stdout",
     "text": [
      "[1, 2, 3, 4]\n[1, 2, 3, 4]\nTrue\nTrue\n"
     ]
    }
   ],
   "source": [
    "# 可变对象类型\n",
    "l1 = [1, 2, 3]\n",
    "l2 = l1\n",
    "l1.append(4)\n",
    "print(l1)\n",
    "print(l2)\n",
    "\n",
    "print(l1 == l2)\n",
    "print(l1 is l2)"
   ]
  },
  {
   "source": [
    "Python 里的变量可以被删除，但是对象无法被删除。比如下面的代码："
   ],
   "cell_type": "markdown",
   "metadata": {}
  },
  {
   "cell_type": "code",
   "execution_count": 6,
   "metadata": {},
   "outputs": [
    {
     "output_type": "error",
     "ename": "NameError",
     "evalue": "name 'l' is not defined",
     "traceback": [
      "\u001b[0;31m---------------------------------------------------------------------------\u001b[0m",
      "\u001b[0;31mNameError\u001b[0m                                 Traceback (most recent call last)",
      "\u001b[0;32m<ipython-input-6-d3a69141dfb3>\u001b[0m in \u001b[0;36m<module>\u001b[0;34m\u001b[0m\n\u001b[1;32m      1\u001b[0m \u001b[0ml\u001b[0m \u001b[0;34m=\u001b[0m \u001b[0;34m[\u001b[0m\u001b[0;36m1\u001b[0m\u001b[0;34m,\u001b[0m \u001b[0;36m2\u001b[0m\u001b[0;34m,\u001b[0m \u001b[0;36m3\u001b[0m\u001b[0;34m]\u001b[0m\u001b[0;34m\u001b[0m\u001b[0;34m\u001b[0m\u001b[0m\n\u001b[1;32m      2\u001b[0m \u001b[0;32mdel\u001b[0m \u001b[0ml\u001b[0m\u001b[0;34m\u001b[0m\u001b[0;34m\u001b[0m\u001b[0m\n\u001b[0;32m----> 3\u001b[0;31m \u001b[0ml\u001b[0m\u001b[0;34m\u001b[0m\u001b[0;34m\u001b[0m\u001b[0m\n\u001b[0m",
      "\u001b[0;31mNameError\u001b[0m: name 'l' is not defined"
     ]
    }
   ],
   "source": [
    "l = [1, 2, 3]\n",
    "del l\n",
    "l"
   ]
  },
  {
   "source": [
    "del l 之后，无法访问 l，但是对象 `[1, 2, 3]` 仍然存在。Python 程序运行时，其自带的垃圾回收系统会跟踪每个对象的引用。如果 `[1, 2, 3]` 除了 l 外，还在其他地方被引用，那就不会被回收，反之则会被回收。\n",
    "\n",
    "### 小结\n",
    "\n",
    "- 变量的赋值，只是表示让变量指向了某个对象，并不表示拷贝对象给变量；而一个对象，可以被多个变量所指向。\n",
    "- 可变对象（列表，字典，集合等等）的改变，会影响所有指向该对象的变量。\n",
    "- 对于不可变对象（字符串、整型、元组等等），所有指向该对象的变量的值总是一样的，也不会改变。但是通过某些操作（+= 等等）更新不可变对象的值时，会返回一个新的对象。\n",
    "- 变量可以被删除，但是对象无法被删除。\n"
   ],
   "cell_type": "markdown",
   "metadata": {}
  },
  {
   "source": [
    "## 函数的参数传递\n",
    "\n",
    "准确地说，Python 的参数传递是赋值传递 （pass by assignment），或者叫作 **_对象的引用传递（pass by object reference）_**。**Python 里所有的数据类型都是对象**，所以参数传递时，只是让新变量与原变量指向相同的对象而已，并不存在值传递或是引用传递一说。"
   ],
   "cell_type": "markdown",
   "metadata": {}
  },
  {
   "cell_type": "code",
   "execution_count": 10,
   "metadata": {},
   "outputs": [
    {
     "output_type": "stream",
     "name": "stdout",
     "text": [
      "True\nFalse\n"
     ]
    },
    {
     "output_type": "execute_result",
     "data": {
      "text/plain": [
       "1"
      ]
     },
     "metadata": {},
     "execution_count": 10
    }
   ],
   "source": [
    "def my_func1(b):\n",
    "    print(a is b)\n",
    "    b = 2\n",
    "    print(a is b)\n",
    "\n",
    "a = 1\n",
    "my_func1(a)\n",
    "a"
   ]
  },
  {
   "source": [
    "这里的参数传递，使变量 a 和 b 同时指向了 1 这个对象。但当我们执行到 b = 2 时，系统会重新创建一个值为 2 的新对象，并让 b 指向它；而 a 仍然指向 1 这个对象。所以，a 的值不变，仍然为 1。"
   ],
   "cell_type": "markdown",
   "metadata": {}
  },
  {
   "cell_type": "code",
   "execution_count": 11,
   "metadata": {},
   "outputs": [
    {
     "output_type": "execute_result",
     "data": {
      "text/plain": [
       "2"
      ]
     },
     "metadata": {},
     "execution_count": 11
    }
   ],
   "source": [
    "# 通过将 函数返回值 赋值给 a，来改变 a 的值\n",
    "\n",
    "def my_func2(b):\n",
    "  b = 2\n",
    "  return b\n",
    "\n",
    "a = 1\n",
    "a = my_func2(a)\n",
    "a"
   ]
  },
  {
   "source": [
    "将 可变对象 当作参数传入函数里的时候，结果就不同了\n"
   ],
   "cell_type": "markdown",
   "metadata": {}
  },
  {
   "cell_type": "code",
   "execution_count": 12,
   "metadata": {},
   "outputs": [
    {
     "output_type": "execute_result",
     "data": {
      "text/plain": [
       "[1, 2, 3, 4]"
      ]
     },
     "metadata": {},
     "execution_count": 12
    }
   ],
   "source": [
    "def my_func3(l2):\n",
    "  l2.append(4)\n",
    "\n",
    "l1 = [1, 2, 3]\n",
    "my_func3(l1)\n",
    "l1"
   ]
  },
  {
   "cell_type": "code",
   "execution_count": 13,
   "metadata": {},
   "outputs": [
    {
     "output_type": "stream",
     "name": "stdout",
     "text": [
      "140285057371104\n140285057369824\n"
     ]
    },
    {
     "output_type": "execute_result",
     "data": {
      "text/plain": [
       "[1, 2, 3]"
      ]
     },
     "metadata": {},
     "execution_count": 13
    }
   ],
   "source": [
    "def my_func4(l2):\n",
    "  l2 = l2 + [4]\n",
    "  print(id(l2))\n",
    "\n",
    "l1 = [1, 2, 3]\n",
    "my_func4(l1)\n",
    "print(id(l1))\n",
    "l1"
   ]
  },
  {
   "source": [
    "思考：为什么 l1 仍然是 `[1, 2, 3]`，而不是 `[1, 2, 3, 4]` 呢？\n",
    "\n",
    "通过 `id()` 观察到 my_func 已经创建了新的对象"
   ],
   "cell_type": "markdown",
   "metadata": {}
  },
  {
   "cell_type": "code",
   "execution_count": 14,
   "metadata": {},
   "outputs": [
    {
     "output_type": "execute_result",
     "data": {
      "text/plain": [
       "[1, 2, 3, 4]"
      ]
     },
     "metadata": {},
     "execution_count": 14
    }
   ],
   "source": [
    "def my_func5(l2):\n",
    "  l2 = l2 + [4]\n",
    "  return l2\n",
    "\n",
    "l1 = [1, 2, 3]\n",
    "l1 = my_func5(l1)\n",
    "l1"
   ]
  },
  {
   "source": [
    "my_func3() 和 my_func5() 的用法，两者虽然写法不同，但实现的功能一致。在实际工作应用中，我们往往倾向于类似 my_func5() 的写法，添加返回语句。这样更简洁明了，不易出错。"
   ],
   "cell_type": "markdown",
   "metadata": {}
  },
  {
   "source": [
    "## 总结\n",
    "\n",
    "- 和其他语言不同的是，Python 中参数的传递既不是值传递，也不是引用传递，而是赋值传递，或者是叫 **_对象的引用传递_**。\n",
    "- 这里的赋值或对象的引用传递，不是指向一个具体的内存地址，而是指向一个具体的对象。\n",
    "- 如果你想通过一个函数来改变某个变量的值，通常有两种方法。\n",
    "   - 一种是直接将可变数据类型（比如列表，字典，集合）当作参数传入，直接在其上修改；\n",
    "   - 第二种则是创建一个新变量，来保存修改后的值，然后将其返回给原变量。\n"
   ],
   "cell_type": "markdown",
   "metadata": {}
  },
  {
   "source": [
    "## 思考题\n",
    "\n",
    "下面的代码中, l1、l2 和 l3 都指向同一个对象吗？\n",
    "\n",
    "```python\n",
    "l1 = [1, 2, 3]\n",
    "l2 = [1, 2, 3]\n",
    "l3 = l2\n",
    "```"
   ],
   "cell_type": "markdown",
   "metadata": {}
  },
  {
   "cell_type": "code",
   "execution_count": 19,
   "metadata": {},
   "outputs": [
    {
     "output_type": "stream",
     "name": "stdout",
     "text": [
      "140285057779104\n140285057512864\n"
     ]
    },
    {
     "output_type": "execute_result",
     "data": {
      "text/plain": [
       "False"
      ]
     },
     "metadata": {},
     "execution_count": 19
    }
   ],
   "source": [
    "# 列表是可变对象，每创建一个列表，都会重新分配内存，因此 l1 和 l2 并不是同一个对象\n",
    "\n",
    "l1 = [1, 2, 3]\n",
    "l2 = [1, 2, 3]\n",
    "l3 = l2\n",
    "\n",
    "print(id(l1))\n",
    "print(id(l2))\n",
    "l1 is l2"
   ]
  },
  {
   "source": [
    "下面的代码中，打印 d 最后的输出是什么呢？\n",
    "\n",
    "```python\n",
    "def func(d):\n",
    "    d['a'] = 10\n",
    "    d['b'] = 20\n",
    "\n",
    "d = {'a': 1, 'b': 2}\n",
    "func(d)\n",
    "print(d)\n",
    "```"
   ],
   "cell_type": "markdown",
   "metadata": {}
  },
  {
   "cell_type": "code",
   "execution_count": 20,
   "metadata": {},
   "outputs": [
    {
     "output_type": "stream",
     "name": "stdout",
     "text": [
      "{'a': 10, 'b': 20}\n"
     ]
    }
   ],
   "source": [
    "def func(d):\n",
    "    d['a'] = 10\n",
    "    d['b'] = 20\n",
    "\n",
    "d = {'a': 1, 'b': 2}\n",
    "func(d)\n",
    "print(d)"
   ]
  }
 ]
}