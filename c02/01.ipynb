{
 "metadata": {
  "language_info": {
   "codemirror_mode": {
    "name": "ipython",
    "version": 3
   },
   "file_extension": ".py",
   "mimetype": "text/x-python",
   "name": "python",
   "nbconvert_exporter": "python",
   "pygments_lexer": "ipython3",
   "version": "3.7.7-final"
  },
  "orig_nbformat": 2,
  "kernelspec": {
   "name": "python3",
   "display_name": "Python 3"
  }
 },
 "nbformat": 4,
 "nbformat_minor": 2,
 "cells": [
  {
   "source": [
    "# 对象的比较、拷贝\n"
   ],
   "cell_type": "markdown",
   "metadata": {}
  },
  {
   "source": [
    "```python\n",
    "l1 = [1, 2, 3]\n",
    "l2 = list(l1)\n",
    "```\n",
    "\n",
    "这些语句的背后发生了什么？\n",
    "\n",
    "- l2 是 l1 的浅拷贝（shallow copy）还是深度拷贝（deep copy）呢？\n",
    "- a == b是比较两个对象的值相等，还是两个对象完全相等呢？\n",
    "\n",
    "   - '=='操作符比较对象之间的值是否相等\n",
    "   - 'is'操作符比较的是对象的身份标识是否相等，即它们是否是同一个对象，是否指向同一个内存地址。\n",
    "   - 在 Python 中，每个对象的身份标识，都能通过函数 id(object) 获得。\n",
    "   "
   ],
   "cell_type": "markdown",
   "metadata": {}
  },
  {
   "cell_type": "code",
   "execution_count": 11,
   "metadata": {},
   "outputs": [
    {
     "output_type": "stream",
     "name": "stdout",
     "text": [
      "True\n4532661600\n4532661600\nTrue\n"
     ]
    }
   ],
   "source": [
    "a = 200\n",
    "b = 200\n",
    "\n",
    "print(a == b)\n",
    "print(id(a))\n",
    "print(id(b))\n",
    "print(a is b)"
   ]
  },
  {
   "source": [
    "对于整型数字来说，以上 a is b 为 True 的结论，只适用于 -5 到 256 范围内的数字。这是因为 Python 内部会对 -5 到 256 的整型维持一个数组，起到一个缓存的作用。每次你试图创建一个 -5 到 256 范围内的整型数字时，Python 都会从这个数组中返回相对应的引用，而不是重新开辟一块新的内存空间。"
   ],
   "cell_type": "markdown",
   "metadata": {}
  },
  {
   "cell_type": "code",
   "execution_count": 12,
   "metadata": {},
   "outputs": [
    {
     "output_type": "stream",
     "name": "stdout",
     "text": [
      "True\n140563284206960\n140563284206736\nFalse\n"
     ]
    }
   ],
   "source": [
    "a = 257\n",
    "b = 257\n",
    "\n",
    "print(a == b)\n",
    "print(id(a))\n",
    "print(id(b))\n",
    "print(a is b)"
   ]
  },
  {
   "source": [
    "比较操作符'is'的效率，通常要优于'=='。因为'is'操作符不能被重载，这样，Python 就不需要去寻找，程序中是否有其他地方重载了比较操作符，并去调用。\n",
    "\n",
    "但是'=='操作符却不同，执行 a == b 相当于是去执行 a.\\__eq\\__(b)，而 Python 大部分的数据类型都会去重载\n",
    "\\__eq\\__ 这个函数，其内部的处理通常会复杂一些。比如，对于列表，\\__eq\\__函数会去遍历列表中的元素，比较它们的顺序和值是否相等。\n"
   ],
   "cell_type": "markdown",
   "metadata": {}
  },
  {
   "cell_type": "code",
   "execution_count": 13,
   "metadata": {},
   "outputs": [
    {
     "output_type": "stream",
     "name": "stdout",
     "text": [
      "True\nFalse\n"
     ]
    }
   ],
   "source": [
    "# 对于不可变（immutable）的变量\n",
    "\n",
    "t1 = (1, 2, [3, 4])\n",
    "t2 = (1, 2, [3, 4])\n",
    "print(t1 == t2)\n",
    "\n",
    "t1[-1].append(5)\n",
    "print(t1 == t2)"
   ]
  },
  {
   "source": [
    "## 浅拷贝和深度拷贝\n",
    "\n",
    "浅拷贝（shallow copy）和深度拷贝（deep copy）。\n",
    "- 浅拷贝，是指重新分配一块内存，创建一个新的对象，里面的元素是原对象中子对象的引用（指原对象内第一层对象的引用）。因此，如果原对象中的元素不可变，那倒无所谓；但如果元素可变，浅拷贝通常会带来一些副作用，尤其需要注意。\n",
    "- 如果我们想避免这种副作用，完整地拷贝一个对象，你就得使用深度拷贝。\n",
    "- 深度拷贝，是指重新分配一块内存，创建一个新的对象，并且将原对象中的元素，以递归的方式，通过创建新的子对象拷贝到新对象中。（相对于浅拷贝，深度拷贝的时间和空间开销要高多了）\n",
    "\n",
    "常见的浅拷贝的方法，\n",
    "\n",
    "- 使用数据类型本身的构造器（工厂函数）"
   ],
   "cell_type": "markdown",
   "metadata": {}
  },
  {
   "cell_type": "code",
   "execution_count": 15,
   "metadata": {},
   "outputs": [
    {
     "output_type": "stream",
     "name": "stdout",
     "text": [
      "[1, 2, 3]\nTrue\nFalse\n{1, 2, 3}\nTrue\nFalse\n"
     ]
    }
   ],
   "source": [
    "l1 = [1, 2, 3]\n",
    "l2 = list(l1)\n",
    "\n",
    "print(l2)\n",
    "print(l1 == l2)\n",
    "print(l1 is l2)\n",
    "\n",
    "s1 = set([1, 2, 3])\n",
    "s2 = set(s1)\n",
    "\n",
    "print(s2)\n",
    "print(s1 == s2)\n",
    "print(s1 is s2)"
   ]
  },
  {
   "source": [
    "- 切片操作符':'完成浅拷贝"
   ],
   "cell_type": "markdown",
   "metadata": {}
  },
  {
   "cell_type": "code",
   "execution_count": 16,
   "metadata": {},
   "outputs": [
    {
     "output_type": "stream",
     "name": "stdout",
     "text": [
      "[1, 2, 3]\nTrue\nFalse\n"
     ]
    }
   ],
   "source": [
    "l1 = [1, 2, 3]\n",
    "l2 = l1[:]\n",
    "\n",
    "print(l2)\n",
    "print(l1 == l2)\n",
    "print(l1 is l2)"
   ]
  },
  {
   "source": [
    ">需要注意的是，对于元组，使用 tuple() 或者切片操作符':'不会创建一份浅拷贝，相反，它会返回一个指向相同元组的引用"
   ],
   "cell_type": "markdown",
   "metadata": {}
  },
  {
   "cell_type": "code",
   "execution_count": 18,
   "metadata": {},
   "outputs": [
    {
     "output_type": "stream",
     "name": "stdout",
     "text": [
      "True\nTrue\n"
     ]
    }
   ],
   "source": [
    "t1 = (1, 2, 3)\n",
    "t2 = tuple(t1)\n",
    "\n",
    "print(t1 == t2)\n",
    "print(t1 is t2)"
   ]
  },
  {
   "source": [
    "- copy.copy 完成浅拷贝"
   ],
   "cell_type": "markdown",
   "metadata": {}
  },
  {
   "cell_type": "code",
   "execution_count": 17,
   "metadata": {},
   "outputs": [
    {
     "output_type": "stream",
     "name": "stdout",
     "text": [
      "[1, 2, 3]\nTrue\nFalse\n"
     ]
    }
   ],
   "source": [
    "import copy\n",
    "\n",
    "l1 = [1, 2, 3]\n",
    "l2 = copy.copy(l1)\n",
    "\n",
    "print(l2)\n",
    "print(l1 == l2)\n",
    "print(l1 is l2)"
   ]
  },
  {
   "source": [
    "深拷贝只有一种形式，copy 模块中的 deepcopy()函数。\n",
    "\n",
    "深度拷贝也不是完美的，往往也会带来一系列问题。如果被拷贝对象中存在指向自身的引用，那么程序很容易陷入无限循环："
   ],
   "cell_type": "markdown",
   "metadata": {}
  },
  {
   "cell_type": "code",
   "execution_count": 19,
   "metadata": {},
   "outputs": [
    {
     "output_type": "stream",
     "name": "stdout",
     "text": [
      "[1, [...]]\n"
     ]
    },
    {
     "output_type": "execute_result",
     "data": {
      "text/plain": [
       "[1, [...]]"
      ]
     },
     "metadata": {},
     "execution_count": 19
    }
   ],
   "source": [
    "import copy\n",
    "\n",
    "x = [1]\n",
    "x.append(x)\n",
    "\n",
    "print(x)\n",
    "\n",
    "y = copy.deepcopy(x)\n",
    "y"
   ]
  },
  {
   "source": [
    "上面这段代码，深度拷贝 x 到 y 后，程序并没有出现 stack overflow 的现象。这是为什么呢？\n",
    "\n",
    "这是因为深度拷贝函数 deepcopy 中会维护一个字典，记录已经拷贝的对象与其 ID。拷贝过程中，如果字典里已经存储了将要拷贝的对象，则会从字典直接返回，看下面源码：\n",
    "\n",
    "```python\n",
    "def deepcopy(x, memo=None, _nil=[]):\n",
    "    \"\"\"Deep copy operation on arbitrary Python objects.\n",
    "\n",
    "    See the module's __doc__ string for more info.\n",
    "    \"\"\"\n",
    "\n",
    "    if memo is None:\n",
    "        memo = {}\n",
    "\n",
    "    d = id(x)\n",
    "    y = memo.get(d, _nil)   # 查询字典里是否已经存储了该对象\n",
    "    if y is not _nil:\n",
    "        return y    # 如果字典里已经存储了将要拷贝的对象，则直接返回\n",
    "\n",
    "    # ...\n",
    "```"
   ],
   "cell_type": "markdown",
   "metadata": {}
  },
  {
   "cell_type": "code",
   "execution_count": 20,
   "metadata": {},
   "outputs": [
    {
     "output_type": "stream",
     "text": [
      "\u001b[0;31mSignature:\u001b[0m \u001b[0mcopy\u001b[0m\u001b[0;34m.\u001b[0m\u001b[0mdeepcopy\u001b[0m   \u001b[0;34m(\u001b[0m\u001b[0mx\u001b[0m\u001b[0;34m,\u001b[0m \u001b[0mmemo\u001b[0m\u001b[0;34m=\u001b[0m\u001b[0;32mNone\u001b[0m\u001b[0;34m,\u001b[0m \u001b[0m_nil\u001b[0m\u001b[0;34m=\u001b[0m\u001b[0;34m[\u001b[0m\u001b[0;34m]\u001b[0m\u001b[0;34m)\u001b[0m\u001b[0;34m\u001b[0m\u001b[0;34m\u001b[0m\u001b[0m\n",
      "\u001b[0;31mDocstring:\u001b[0m\n",
      "Deep copy operation on arbitrary Python objects.\n",
      "\n",
      "See the module's __doc__ string for more info.\n",
      "\u001b[0;31mFile:\u001b[0m      ~/miniconda3/lib/python3.7/copy.py\n",
      "\u001b[0;31mType:\u001b[0m      function\n"
     ],
     "name": "stdout"
    }
   ],
   "source": [
    "?copy.deepcopy   "
   ]
  },
  {
   "cell_type": "code",
   "execution_count": null,
   "metadata": {},
   "outputs": [],
   "source": [
    "!cat ~/miniconda3/lib/python3.7/copy.py"
   ]
  },
  {
   "source": [
    "## 思考题\n",
    "\n",
    "我曾用深度拷贝，拷贝过一个无限嵌套的列表。那么，当我们用等于操作符'=='进行比较时，输出会是什么呢？是 True 或者 False 还是其他？为什么呢？"
   ],
   "cell_type": "markdown",
   "metadata": {}
  },
  {
   "cell_type": "code",
   "execution_count": 1,
   "metadata": {},
   "outputs": [
    {
     "output_type": "error",
     "ename": "RecursionError",
     "evalue": "maximum recursion depth exceeded in comparison",
     "traceback": [
      "\u001b[0;31m---------------------------------------------------------------------------\u001b[0m",
      "\u001b[0;31mRecursionError\u001b[0m                            Traceback (most recent call last)",
      "\u001b[0;32m<ipython-input-1-5d0012b9b4f3>\u001b[0m in \u001b[0;36m<module>\u001b[0;34m\u001b[0m\n\u001b[1;32m      5\u001b[0m \u001b[0my\u001b[0m \u001b[0;34m=\u001b[0m \u001b[0mcopy\u001b[0m\u001b[0;34m.\u001b[0m\u001b[0mdeepcopy\u001b[0m\u001b[0;34m(\u001b[0m\u001b[0mx\u001b[0m\u001b[0;34m)\u001b[0m\u001b[0;34m\u001b[0m\u001b[0;34m\u001b[0m\u001b[0m\n\u001b[1;32m      6\u001b[0m \u001b[0;34m\u001b[0m\u001b[0m\n\u001b[0;32m----> 7\u001b[0;31m \u001b[0mprint\u001b[0m\u001b[0;34m(\u001b[0m\u001b[0mx\u001b[0m \u001b[0;34m==\u001b[0m \u001b[0my\u001b[0m\u001b[0;34m)\u001b[0m\u001b[0;34m\u001b[0m\u001b[0;34m\u001b[0m\u001b[0m\n\u001b[0m\u001b[1;32m      8\u001b[0m \u001b[0mprint\u001b[0m\u001b[0;34m(\u001b[0m\u001b[0mx\u001b[0m \u001b[0;32mis\u001b[0m \u001b[0my\u001b[0m\u001b[0;34m)\u001b[0m\u001b[0;34m\u001b[0m\u001b[0;34m\u001b[0m\u001b[0m\n",
      "\u001b[0;31mRecursionError\u001b[0m: maximum recursion depth exceeded in comparison"
     ]
    }
   ],
   "source": [
    "import copy\n",
    "\n",
    "x = [1]\n",
    "x.append(x)\n",
    "y = copy.deepcopy(x)\n",
    "\n",
    "print(x == y)\n",
    "print(x is y)"
   ]
  },
  {
   "source": [
    "答：x，y都是一个无限嵌套的列表，因此会抛出 stack overflow，可以设置最深递归层次，比如1000来避免。\n",
    "\n",
    "```python\n",
    "import sys\n",
    "sys.setrecursionlimit(1000)\n",
    "# get the recursion limit\n",
    "# sys.getrecursionlimit()\n",
    "```"
   ],
   "cell_type": "markdown",
   "metadata": {}
  },
  {
   "source": [
    "## 附注\n",
    "\n",
    "如果是非容器的原子类型，不存在浅/深拷贝，如下：\n",
    "\n",
    "```python\n",
    "x = 1000\n",
    "\n",
    "# y = copy.copy(x)\n",
    "# y = copy.deepcopy(x)\n",
    "# 都等同于\n",
    "y = x\n",
    "\n",
    "x== y # True\n",
    "x is y # True\n",
    "```"
   ],
   "cell_type": "markdown",
   "metadata": {}
  }
 ]
}